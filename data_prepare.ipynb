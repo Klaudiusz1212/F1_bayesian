{
 "cells": [
  {
   "cell_type": "code",
   "execution_count": 75,
   "id": "568c39fd",
   "metadata": {},
   "outputs": [],
   "source": [
    "import pandas as pd\n",
    "import numpy as np"
   ]
  },
  {
   "cell_type": "code",
   "execution_count": 76,
   "id": "3e809eff",
   "metadata": {},
   "outputs": [],
   "source": [
    "results_2019 = pd.read_csv('data/final_results_2019.csv')\n",
    "results_2020 = pd.read_csv('data/final_results_2020.csv')\n",
    "results_2021 = pd.read_csv('data/final_results_2021.csv')\n",
    "results_2022 = pd.read_csv('data/final_results_2022.csv')\n",
    "results_2023 = pd.read_csv('data/final_results_2023.csv')\n",
    "results_2024 = pd.read_csv('data/final_results_2024.csv')"
   ]
  },
  {
   "cell_type": "code",
   "execution_count": 77,
   "id": "afafc22f",
   "metadata": {},
   "outputs": [],
   "source": [
    "all_results = pd.concat([\n",
    "    results_2019,\n",
    "    results_2020,\n",
    "    results_2021,\n",
    "    results_2022,\n",
    "    results_2023,\n",
    "    results_2024\n",
    "], ignore_index=True)"
   ]
  },
  {
   "cell_type": "code",
   "execution_count": 78,
   "id": "fa327f27",
   "metadata": {},
   "outputs": [],
   "source": [
    "all_results.drop(columns=['DriverNumber', 'Abbreviation', 'EventName', 'Round'], inplace=True)"
   ]
  },
  {
   "cell_type": "code",
   "execution_count": 79,
   "id": "a4c7cb07",
   "metadata": {},
   "outputs": [
    {
     "data": {
      "text/plain": [
       "array(['mercedes', 'red_bull', 'ferrari', 'haas', 'renault', 'alfa',\n",
       "       'racing_point', 'toro_rosso', 'mclaren', 'williams', 'alphatauri',\n",
       "       'aston_martin', 'alpine', 'sauber', 'rb'], dtype=object)"
      ]
     },
     "execution_count": 79,
     "metadata": {},
     "output_type": "execute_result"
    }
   ],
   "source": [
    "all_results['TeamId'].unique()"
   ]
  },
  {
   "cell_type": "code",
   "execution_count": 80,
   "id": "dd70c606",
   "metadata": {},
   "outputs": [],
   "source": [
    "all_results.replace({'TeamId': {\n",
    "    'renault': 'alpine',\n",
    "    'alfa' : 'sauber',\n",
    "    'toro_rosso' : 'rb',\n",
    "    'alphatauri' : 'rb',\n",
    "    'racing_point' : 'aston_martin',\n",
    "}}, inplace=True)"
   ]
  },
  {
   "cell_type": "code",
   "execution_count": 81,
   "id": "fd8f363e",
   "metadata": {},
   "outputs": [
    {
     "data": {
      "text/plain": [
       "array(['mercedes', 'red_bull', 'ferrari', 'haas', 'alpine', 'sauber',\n",
       "       'aston_martin', 'rb', 'mclaren', 'williams'], dtype=object)"
      ]
     },
     "execution_count": 81,
     "metadata": {},
     "output_type": "execute_result"
    }
   ],
   "source": [
    "all_results['TeamId'].unique()\n"
   ]
  },
  {
   "cell_type": "code",
   "execution_count": 82,
   "id": "ac3740a4",
   "metadata": {},
   "outputs": [],
   "source": [
    "all_results.to_csv('data/final_results_all.csv', index=False)"
   ]
  }
 ],
 "metadata": {
  "kernelspec": {
   "display_name": ".venv",
   "language": "python",
   "name": "python3"
  },
  "language_info": {
   "codemirror_mode": {
    "name": "ipython",
    "version": 3
   },
   "file_extension": ".py",
   "mimetype": "text/x-python",
   "name": "python",
   "nbconvert_exporter": "python",
   "pygments_lexer": "ipython3",
   "version": "3.12.8"
  }
 },
 "nbformat": 4,
 "nbformat_minor": 5
}
