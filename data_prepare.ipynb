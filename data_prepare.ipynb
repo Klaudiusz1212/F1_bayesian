{
 "cells": [
  {
   "cell_type": "markdown",
   "id": "8484fe81",
   "metadata": {},
   "source": [
    "# Data Preparation for F1 Bayesian Analysis\n",
    "\n",
    "This notebook prepares and processes F1 race results and driver ratings data for further analysis."
   ]
  },
  {
   "cell_type": "code",
   "execution_count": 109,
   "id": "568c39fd",
   "metadata": {},
   "outputs": [],
   "source": [
    "import pandas as pd\n",
    "import numpy as np"
   ]
  },
  {
   "cell_type": "markdown",
   "id": "1bff0774",
   "metadata": {},
   "source": [
    "## Load Race Results Data\n",
    "\n",
    "Read final race results from CSV files for each season."
   ]
  },
  {
   "cell_type": "code",
   "execution_count": 110,
   "id": "3e809eff",
   "metadata": {},
   "outputs": [],
   "source": [
    "results_2019 = pd.read_csv('data/final_results_2019.csv')\n",
    "results_2020 = pd.read_csv('data/final_results_2020.csv')\n",
    "results_2021 = pd.read_csv('data/final_results_2021.csv')\n",
    "results_2022 = pd.read_csv('data/final_results_2022.csv')\n",
    "results_2023 = pd.read_csv('data/final_results_2023.csv')\n",
    "results_2024 = pd.read_csv('data/final_results_2024.csv')"
   ]
  },
  {
   "cell_type": "markdown",
   "id": "e225fcef",
   "metadata": {},
   "source": [
    "## Concatenate Results\n",
    "\n",
    "Combine results from all seasons into a single DataFrame."
   ]
  },
  {
   "cell_type": "code",
   "execution_count": 111,
   "id": "afafc22f",
   "metadata": {},
   "outputs": [],
   "source": [
    "all_results = pd.concat([\n",
    "    # results_2019,\n",
    "    results_2020,\n",
    "    results_2021,\n",
    "    results_2022,\n",
    "    results_2023,\n",
    "    results_2024\n",
    "], ignore_index=True)"
   ]
  },
  {
   "cell_type": "markdown",
   "id": "bf31b8f3",
   "metadata": {},
   "source": [
    "## Drop Unnecessary Columns\n",
    "\n",
    "Remove columns that are not needed for further analysis."
   ]
  },
  {
   "cell_type": "code",
   "execution_count": 112,
   "id": "fa327f27",
   "metadata": {},
   "outputs": [],
   "source": [
    "all_results.drop(columns=['DriverNumber', 'Abbreviation', 'EventName', 'Round'], inplace=True)"
   ]
  },
  {
   "cell_type": "markdown",
   "id": "62bf9ba5",
   "metadata": {},
   "source": [
    "## Inspect Unique Teams\n",
    "\n",
    "Check the unique team identifiers in the results."
   ]
  },
  {
   "cell_type": "code",
   "execution_count": 113,
   "id": "a4c7cb07",
   "metadata": {},
   "outputs": [
    {
     "data": {
      "text/plain": [
       "array(['mercedes', 'ferrari', 'mclaren', 'racing_point', 'alphatauri',\n",
       "       'renault', 'alfa', 'williams', 'red_bull', 'haas', 'aston_martin',\n",
       "       'alpine', 'sauber', 'rb'], dtype=object)"
      ]
     },
     "execution_count": 113,
     "metadata": {},
     "output_type": "execute_result"
    }
   ],
   "source": [
    "all_results['TeamId'].unique()"
   ]
  },
  {
   "cell_type": "markdown",
   "id": "47d9542a",
   "metadata": {},
   "source": [
    "## Standardize Team Names\n",
    "\n",
    "Replace old or inconsistent team names with standardized ones."
   ]
  },
  {
   "cell_type": "code",
   "execution_count": 114,
   "id": "dd70c606",
   "metadata": {},
   "outputs": [],
   "source": [
    "all_results.replace({'TeamId': {\n",
    "    'renault': 'alpine',\n",
    "    'alfa' : 'sauber',\n",
    "    'toro_rosso' : 'rb',\n",
    "    'alphatauri' : 'rb',\n",
    "    'racing_point' : 'aston_martin',\n",
    "}}, inplace=True)"
   ]
  },
  {
   "cell_type": "markdown",
   "id": "df46b944",
   "metadata": {},
   "source": [
    "## Verify Team Name Standardization\n",
    "\n",
    "Check the unique team identifiers after standardization."
   ]
  },
  {
   "cell_type": "code",
   "execution_count": 115,
   "id": "fd8f363e",
   "metadata": {},
   "outputs": [
    {
     "data": {
      "text/plain": [
       "array(['mercedes', 'ferrari', 'mclaren', 'aston_martin', 'rb', 'alpine',\n",
       "       'sauber', 'williams', 'red_bull', 'haas'], dtype=object)"
      ]
     },
     "execution_count": 115,
     "metadata": {},
     "output_type": "execute_result"
    }
   ],
   "source": [
    "all_results['TeamId'].unique()\n"
   ]
  },
  {
   "cell_type": "markdown",
   "id": "d60d0104",
   "metadata": {},
   "source": [
    "## Save Processed Results\n",
    "\n",
    "Export the cleaned and combined results to a CSV file."
   ]
  },
  {
   "cell_type": "code",
   "execution_count": 116,
   "id": "ac3740a4",
   "metadata": {},
   "outputs": [],
   "source": [
    "all_results.to_csv('processed_data/final_results_all.csv', index=False)"
   ]
  },
  {
   "cell_type": "markdown",
   "id": "aa2b2446",
   "metadata": {},
   "source": [
    "## Load Driver Ratings Data\n",
    "\n",
    "Read driver ratings from F1 video game CSV files for each season."
   ]
  },
  {
   "cell_type": "code",
   "execution_count": 117,
   "id": "cd6a5204",
   "metadata": {},
   "outputs": [],
   "source": [
    "f1_2020_ratings = pd.read_csv('data/f1_2020_videogame_driver_ratings_initial.csv')\n",
    "f1_2021_ratings = pd.read_csv('data/f1_2021_videogame_driver_ratings_initial.csv')\n",
    "f1_2022_ratings = pd.read_csv('data/f1_22_videogame_driver_ratings_initial.csv')\n",
    "f1_2023_ratings = pd.read_csv('data/F1_23_videogame_driver_ratings_initial.csv')\n",
    "f1_2024_ratings = pd.read_csv('data/f1_24_videogame_driver_ratings.csv')"
   ]
  },
  {
   "cell_type": "markdown",
   "id": "bebb8d8f",
   "metadata": {},
   "source": [
    "## Drop Unnecessary Rating Columns\n",
    "\n",
    "Remove columns from ratings data that are not needed for analysis."
   ]
  },
  {
   "cell_type": "code",
   "execution_count": 118,
   "id": "b6c18904",
   "metadata": {},
   "outputs": [],
   "source": [
    "f1_2020_ratings.drop(columns=['Team', 'Contract Cost', 'Salary', 'Buyout'], inplace=True)\n",
    "f1_2021_ratings.drop(columns=['Team', 'Contract Cost', 'Salary', 'Buyout'], inplace=True)\n",
    "f1_2022_ratings.drop(columns=['Team', 'Rank', 'Nationality', 'Contract Cost', 'Salary', 'Buyout'], inplace=True)\n",
    "f1_2023_ratings.drop(columns=['Team', 'Nationality', 'Age', 'Car Number', 'Contract Cost', 'Salary', 'Buyout'], inplace=True)"
   ]
  },
  {
   "cell_type": "markdown",
   "id": "8e770ac5",
   "metadata": {},
   "source": [
    "## Standardize Ratings Column Names\n",
    "\n",
    "Rename columns for consistency across seasons."
   ]
  },
  {
   "cell_type": "code",
   "execution_count": 119,
   "id": "388e1425",
   "metadata": {},
   "outputs": [],
   "source": [
    "f1_2020_ratings.rename(columns={'Race Craft' : 'Racecraft'}, inplace=True)\n",
    "f1_2023_ratings.rename(columns={'RTG' : 'Rating', 'EXP': 'Experience', 'RAC': 'Racecraft', 'AWA' : 'Awareness', 'PAC' : 'Pace', 'RTG' : 'Rating'}, inplace=True)\n",
    "f1_2024_ratings.rename(columns={'Overall' : 'Rating'}, inplace=True)"
   ]
  },
  {
   "cell_type": "markdown",
   "id": "e60f39ff",
   "metadata": {},
   "source": [
    "## Select Relevant Rating Columns\n",
    "\n",
    "Keep only the relevant columns for each season's ratings."
   ]
  },
  {
   "cell_type": "code",
   "execution_count": 120,
   "id": "70891390",
   "metadata": {},
   "outputs": [],
   "source": [
    "f1_2020_ratings = f1_2020_ratings[['Driver', 'Rating', 'Experience', 'Racecraft', 'Awareness', 'Pace']]\n",
    "f1_2024_ratings = f1_2024_ratings[['Driver', 'Rating', 'Experience', 'Racecraft', 'Awareness', 'Pace']]"
   ]
  },
  {
   "cell_type": "markdown",
   "id": "ddf86a4a",
   "metadata": {},
   "source": [
    "## Add Season Information\n",
    "\n",
    "Add a column indicating the season for each ratings DataFrame."
   ]
  },
  {
   "cell_type": "code",
   "execution_count": 121,
   "id": "ca889714",
   "metadata": {},
   "outputs": [],
   "source": [
    "f1_2020_ratings['Season'] = 2020\n",
    "f1_2021_ratings['Season'] = 2021\n",
    "f1_2022_ratings['Season'] = 2022\n",
    "f1_2023_ratings['Season'] = 2023\n",
    "f1_2024_ratings['Season'] = 2024"
   ]
  },
  {
   "cell_type": "markdown",
   "id": "23daacea",
   "metadata": {},
   "source": [
    "## (Optional) Preview Ratings Data\n",
    "\n",
    "Preview the ratings data for each season (commented out)."
   ]
  },
  {
   "cell_type": "code",
   "execution_count": 122,
   "id": "25cb8d45",
   "metadata": {},
   "outputs": [],
   "source": [
    "# f1_2020_ratings.head()\n",
    "# f1_2021_ratings.head()\n",
    "# f1_2022_ratings.head()\n",
    "# f1_2023_ratings.head()\n",
    "# f1_2024_ratings.head()"
   ]
  },
  {
   "cell_type": "markdown",
   "id": "626b1745",
   "metadata": {},
   "source": [
    "## Concatenate All Ratings\n",
    "\n",
    "Combine ratings from all seasons into a single DataFrame."
   ]
  },
  {
   "cell_type": "code",
   "execution_count": 123,
   "id": "03e2041f",
   "metadata": {},
   "outputs": [],
   "source": [
    "all_ratings = pd.concat([\n",
    "    f1_2020_ratings,\n",
    "    f1_2021_ratings,\n",
    "    f1_2022_ratings,\n",
    "    f1_2023_ratings,\n",
    "    f1_2024_ratings\n",
    "], ignore_index=True)"
   ]
  },
  {
   "cell_type": "markdown",
   "id": "8c4757e4",
   "metadata": {},
   "source": [
    "## Check Ratings Data Shapes\n",
    "\n",
    "Print the shape of each season's ratings DataFrame."
   ]
  },
  {
   "cell_type": "code",
   "execution_count": 124,
   "id": "8c6a4998",
   "metadata": {},
   "outputs": [
    {
     "name": "stdout",
     "output_type": "stream",
     "text": [
      "2020:(20, 7), 2021:(20, 7), 2022:(20, 7), 2023:(20, 7), 2024:(20, 7)\n"
     ]
    }
   ],
   "source": [
    "print(f'2020:{f1_2020_ratings.shape}, 2021:{f1_2021_ratings.shape}, 2022:{f1_2022_ratings.shape}, 2023:{f1_2023_ratings.shape}, 2024:{f1_2024_ratings.shape}')"
   ]
  },
  {
   "cell_type": "markdown",
   "id": "ce0814bb",
   "metadata": {},
   "source": [
    "## Inspect Unique Driver IDs in Results\n",
    "\n",
    "Check the unique driver identifiers in the results data."
   ]
  },
  {
   "cell_type": "code",
   "execution_count": 125,
   "id": "e671f12a",
   "metadata": {},
   "outputs": [
    {
     "data": {
      "text/plain": [
       "array(['bottas', 'leclerc', 'norris', 'hamilton', 'sainz', 'perez',\n",
       "       'gasly', 'ocon', 'giovinazzi', 'vettel', 'latifi', 'kvyat',\n",
       "       'albon', 'raikkonen', 'russell', 'grosjean', 'kevin_magnussen',\n",
       "       'stroll', 'ricciardo', 'max_verstappen', 'hulkenberg', 'aitken',\n",
       "       'pietro_fittipaldi', 'tsunoda', 'mick_schumacher', 'alonso',\n",
       "       'mazepin', 'kubica', 'zhou', 'de_vries', 'sargeant', 'piastri',\n",
       "       'lawson', 'bearman', 'colapinto', 'doohan'], dtype=object)"
      ]
     },
     "execution_count": 125,
     "metadata": {},
     "output_type": "execute_result"
    }
   ],
   "source": [
    "all_results['DriverId'].unique()"
   ]
  },
  {
   "cell_type": "markdown",
   "id": "8ce3ad86",
   "metadata": {},
   "source": [
    "## Map Driver Names to IDs\n",
    "\n",
    "Create a mapping from driver names to standardized driver IDs."
   ]
  },
  {
   "cell_type": "code",
   "execution_count": 126,
   "id": "63a73f64",
   "metadata": {},
   "outputs": [],
   "source": [
    "driver_id_map = {\n",
    "    'Valtteri Bottas': 'bottas',\n",
    "    'Charles Leclerc': 'leclerc',\n",
    "    'Lando Norris': 'norris',\n",
    "    'Lewis Hamilton': 'hamilton',\n",
    "    'Carlos Sainz': 'sainz',\n",
    "    'Carlos Sainz Jr.': 'sainz',\n",
    "    'Sergio Perez': 'perez',\n",
    "    'Pierre Gasly': 'gasly',\n",
    "    'Esteban Ocon': 'ocon',\n",
    "    'Antonio Giovinazzi': 'giovinazzi',\n",
    "    'Sebastian Vettel': 'vettel',\n",
    "    'Nicolas Latifi': 'latifi',\n",
    "    'Nicholas Latifi': 'latifi',\n",
    "    'Daniil Kvyat': 'kvyat',\n",
    "    'Alexander Albon': 'albon',\n",
    "    'Alex Albon': 'albon',\n",
    "    'Kimi Raikkönen': 'raikkonen',\n",
    "    'George Russell': 'russell',\n",
    "    'Romain Grosjean': 'grosjean',\n",
    "    'Kevin Magnussen': 'kevin_magnussen',\n",
    "    'Lance Stroll': 'stroll',\n",
    "    'Daniel Ricciardo': 'ricciardo',\n",
    "    'Max Verstappen': 'max_verstappen',\n",
    "    'Nico Hülkenberg': 'hulkenberg',\n",
    "    'Nico Hulkenberg': 'hulkenberg',\n",
    "    'Jack Aitken': 'aitken',\n",
    "    'Pietro Fittipaldi': 'pietro_fittipaldi',\n",
    "    'Yuki Tsunoda': 'tsunoda',\n",
    "    'Mick Schumacher': 'mick_schumacher',\n",
    "    'Fernando Alonso': 'alonso',\n",
    "    'Nikita Mazepin': 'mazepin',\n",
    "    'Robert Kubica': 'kubica',\n",
    "    'Zhou Guanyu': 'zhou',\n",
    "    'Guanyu Zhou': 'zhou',\n",
    "    'Nick de Vries': 'de_vries',\n",
    "    'Nyck De Vries': 'de_vries',\n",
    "    'Logan Sargeant': 'sargeant',\n",
    "    'Oscar Piastri': 'piastri',\n",
    "    'Liam Lawson': 'lawson',\n",
    "    'Oliver Bearman': 'bearman',\n",
    "    'Franco Colapinto': 'colapinto',\n",
    "    'Jack Doohan': 'doohan',\n",
    "}"
   ]
  },
  {
   "cell_type": "markdown",
   "id": "4822f1e7",
   "metadata": {},
   "source": [
    "## Apply Driver ID Mapping\n",
    "\n",
    "Replace driver names with standardized IDs and select relevant columns."
   ]
  },
  {
   "cell_type": "code",
   "execution_count": 127,
   "id": "7506bb2c",
   "metadata": {},
   "outputs": [
    {
     "data": {
      "text/plain": [
       "array(['max_verstappen', 'albon', 'perez', 'stroll', 'gasly', 'kvyat',\n",
       "       'hamilton', 'bottas', 'ricciardo', 'ocon', 'russell', 'latifi',\n",
       "       'leclerc', 'vettel', 'raikkonen', 'giovinazzi', 'kevin_magnussen',\n",
       "       'grosjean', 'sainz', 'norris', 'tsunoda', 'alonso', 'mazepin',\n",
       "       'mick_schumacher', 'zhou', 'hulkenberg', 'piastri', 'sargeant',\n",
       "       'de_vries'], dtype=object)"
      ]
     },
     "execution_count": 127,
     "metadata": {},
     "output_type": "execute_result"
    }
   ],
   "source": [
    "all_ratings['DriverId'] = all_ratings['Driver'].replace(driver_id_map)\n",
    "all_ratings.drop(columns=['Driver'], inplace=True)\n",
    "all_ratings = all_ratings[['DriverId', 'Rating', 'Experience', 'Racecraft', 'Awareness', 'Pace', 'Season']]\n",
    "all_ratings['DriverId'].unique()"
   ]
  },
  {
   "cell_type": "markdown",
   "id": "d4a653fc",
   "metadata": {},
   "source": [
    "## Finalize and Save Ratings Data\n",
    "\n",
    "Keep only necessary columns and save the processed ratings to CSV."
   ]
  },
  {
   "cell_type": "code",
   "execution_count": 128,
   "id": "1a20d5eb",
   "metadata": {},
   "outputs": [],
   "source": [
    "all_ratings = all_ratings[['DriverId', 'Rating', 'Season']]\n",
    "all_ratings.to_csv('processed_data/f1_ratings_all.csv', index=False)"
   ]
  },
  {
   "cell_type": "markdown",
   "id": "c2565dfe",
   "metadata": {},
   "source": [
    "## Load Engine Data\n",
    "\n",
    "Read F1 engine supplier data for each team and season."
   ]
  },
  {
   "cell_type": "code",
   "execution_count": 129,
   "id": "86f90f25",
   "metadata": {},
   "outputs": [],
   "source": [
    "engines = pd.read_csv('data/F1Engines2019_2024.csv', delimiter=';')\n",
    "engines.drop(columns=['2019'], inplace=True)"
   ]
  },
  {
   "cell_type": "code",
   "execution_count": 130,
   "id": "ad76c6bb",
   "metadata": {},
   "outputs": [
    {
     "data": {
      "text/plain": [
       "array(['mercedes', 'ferrari', 'mclaren', 'aston_martin', 'rb', 'alpine',\n",
       "       'sauber', 'williams', 'red_bull', 'haas'], dtype=object)"
      ]
     },
     "execution_count": 130,
     "metadata": {},
     "output_type": "execute_result"
    }
   ],
   "source": [
    "all_results['TeamId'].unique()"
   ]
  },
  {
   "cell_type": "code",
   "execution_count": 131,
   "id": "a35c05de",
   "metadata": {},
   "outputs": [],
   "source": [
    "teams_map = {\n",
    "    'Mercedes': 'mercedes',\n",
    "    'Ferrari': 'ferrari',\n",
    "    'Red Bull': 'red_bull',\n",
    "    'McLaren': 'mclaren',\n",
    "    'Renault/Alpine': 'alpine',\n",
    "    'Williams': 'williams',\n",
    "    'Racing Point/Aston Martin': 'aston_martin',\n",
    "    'Haas': 'haas',\n",
    "    'VCARB (ex-AlphaTauri/Toro Rosso)': 'rb',\n",
    "    'Stake (ex-Alfa Romeo)': 'sauber',\n",
    "}\n",
    "\n",
    "engines_map = {\n",
    "    'Mercedes': 'mercedes',\n",
    "    'Ferrari': 'ferrari',\n",
    "    'Honda': 'rbpt',\n",
    "    'Red Bull Powertrains (Honda)': 'rbpt',\n",
    "    'Renault': 'renault',\n",
    "}"
   ]
  },
  {
   "cell_type": "markdown",
   "id": "d33db3ea",
   "metadata": {},
   "source": [
    "## Standardize and Save Engine Supplier Data\n",
    "\n",
    "Replace team and engine supplier names with standardized IDs for all seasons, select relevant columns, and save the processed engine data to CSV."
   ]
  },
  {
   "cell_type": "code",
   "execution_count": 132,
   "id": "98656f40",
   "metadata": {},
   "outputs": [],
   "source": [
    "engines['TeamId'] = engines['Team'].replace(teams_map)\n",
    "for year in ['2020', '2021', '2022', '2023', '2024']:\n",
    "    engines[year] = engines[year].replace(engines_map)\n",
    "engines = engines[['TeamId', '2020', '2021', '2022', '2023', '2024']]\n",
    "\n",
    "# Melt engine data to long format\n",
    "engines_long = engines.melt(id_vars='TeamId', var_name='Season', value_name='Engine')\n",
    "engines_long['Season'] = engines_long['Season'].astype(int)\n",
    "\n",
    "engines_long.to_csv('processed_data/f1_engines_all.csv', index=False)"
   ]
  },
  {
   "cell_type": "markdown",
   "id": "bd465d6a",
   "metadata": {},
   "source": [
    "## Concatenate All Processed Data and Map Engine by Year/Constructor\n",
    "\n",
    "Combine all processed data into a single DataFrame, mapping engine supplier by year and constructor."
   ]
  },
  {
   "cell_type": "code",
   "execution_count": 134,
   "id": "530b7c97",
   "metadata": {},
   "outputs": [],
   "source": [
    "results_all = pd.read_csv('processed_data/final_results_all.csv')\n",
    "engines_all = pd.read_csv('processed_data/f1_engines_all.csv')\n",
    "ratings_all = pd.read_csv('processed_data/f1_ratings_all.csv')\n",
    "\n",
    "# Merge results with engine and ratings\n",
    "data = results_all.merge(engines_long, on=['TeamId', 'Season'], how='left')\n",
    "data = data.merge(ratings_all, on=['DriverId', 'Season'], how='left')\n",
    "\n",
    "data = data[['DriverId', 'Rating', 'Position', 'TeamId', 'Engine', 'Season']]\n",
    "\n",
    "# Save the concatenated DataFrame\n",
    "data.to_csv('processed_data/data.csv', index=False)"
   ]
  }
 ],
 "metadata": {
  "kernelspec": {
   "display_name": ".venv",
   "language": "python",
   "name": "python3"
  },
  "language_info": {
   "codemirror_mode": {
    "name": "ipython",
    "version": 3
   },
   "file_extension": ".py",
   "mimetype": "text/x-python",
   "name": "python",
   "nbconvert_exporter": "python",
   "pygments_lexer": "ipython3",
   "version": "3.13.3"
  }
 },
 "nbformat": 4,
 "nbformat_minor": 5
}
