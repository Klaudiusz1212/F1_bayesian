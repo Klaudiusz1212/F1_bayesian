{
 "cells": [
  {
   "cell_type": "code",
   "execution_count": 1,
   "id": "568c39fd",
   "metadata": {},
   "outputs": [],
   "source": [
    "import pandas as pd\n",
    "import numpy as np"
   ]
  },
  {
   "cell_type": "code",
   "execution_count": 2,
   "id": "3e809eff",
   "metadata": {},
   "outputs": [],
   "source": [
    "results_2019 = pd.read_csv('data/final_results_2019.csv')\n",
    "results_2020 = pd.read_csv('data/final_results_2020.csv')\n",
    "results_2021 = pd.read_csv('data/final_results_2021.csv')\n",
    "results_2022 = pd.read_csv('data/final_results_2022.csv')\n",
    "results_2023 = pd.read_csv('data/final_results_2023.csv')\n",
    "results_2024 = pd.read_csv('data/final_results_2024.csv')"
   ]
  },
  {
   "cell_type": "code",
   "execution_count": 3,
   "id": "afafc22f",
   "metadata": {},
   "outputs": [],
   "source": [
    "all_results = pd.concat([\n",
    "    # results_2019,\n",
    "    results_2020,\n",
    "    results_2021,\n",
    "    results_2022,\n",
    "    results_2023,\n",
    "    results_2024\n",
    "], ignore_index=True)"
   ]
  },
  {
   "cell_type": "code",
   "execution_count": 4,
   "id": "fa327f27",
   "metadata": {},
   "outputs": [],
   "source": [
    "all_results.drop(columns=['DriverNumber', 'Abbreviation', 'EventName', 'Round'], inplace=True)"
   ]
  },
  {
   "cell_type": "code",
   "execution_count": 5,
   "id": "a4c7cb07",
   "metadata": {},
   "outputs": [
    {
     "data": {
      "text/plain": [
       "array(['mercedes', 'ferrari', 'mclaren', 'racing_point', 'alphatauri',\n",
       "       'renault', 'alfa', 'williams', 'red_bull', 'haas', 'aston_martin',\n",
       "       'alpine', 'sauber', 'rb'], dtype=object)"
      ]
     },
     "execution_count": 5,
     "metadata": {},
     "output_type": "execute_result"
    }
   ],
   "source": [
    "all_results['TeamId'].unique()"
   ]
  },
  {
   "cell_type": "code",
   "execution_count": 6,
   "id": "dd70c606",
   "metadata": {},
   "outputs": [],
   "source": [
    "all_results.replace({'TeamId': {\n",
    "    'renault': 'alpine',\n",
    "    'alfa' : 'sauber',\n",
    "    'toro_rosso' : 'rb',\n",
    "    'alphatauri' : 'rb',\n",
    "    'racing_point' : 'aston_martin',\n",
    "}}, inplace=True)"
   ]
  },
  {
   "cell_type": "code",
   "execution_count": 7,
   "id": "fd8f363e",
   "metadata": {},
   "outputs": [
    {
     "data": {
      "text/plain": [
       "array(['mercedes', 'ferrari', 'mclaren', 'aston_martin', 'rb', 'alpine',\n",
       "       'sauber', 'williams', 'red_bull', 'haas'], dtype=object)"
      ]
     },
     "execution_count": 7,
     "metadata": {},
     "output_type": "execute_result"
    }
   ],
   "source": [
    "all_results['TeamId'].unique()\n"
   ]
  },
  {
   "cell_type": "code",
   "execution_count": 8,
   "id": "ac3740a4",
   "metadata": {},
   "outputs": [],
   "source": [
    "all_results.to_csv('processed_data/final_results_all.csv', index=False)"
   ]
  },
  {
   "cell_type": "code",
   "execution_count": 9,
   "id": "cd6a5204",
   "metadata": {},
   "outputs": [],
   "source": [
    "f1_2020_ratings = pd.read_csv('data/f1_2020_videogame_driver_ratings_initial.csv')\n",
    "f1_2021_ratings = pd.read_csv('data/f1_2021_videogame_driver_ratings_initial.csv')\n",
    "f1_2022_ratings = pd.read_csv('data/f1_22_videogame_driver_ratings_initial.csv')\n",
    "f1_2023_ratings = pd.read_csv('data/F1_23_videogame_driver_ratings_initial.csv')\n",
    "f1_2024_ratings = pd.read_csv('data/f1_24_videogame_driver_ratings.csv')"
   ]
  },
  {
   "cell_type": "code",
   "execution_count": 10,
   "id": "b6c18904",
   "metadata": {},
   "outputs": [],
   "source": [
    "f1_2020_ratings.drop(columns=['Team', 'Contract Cost', 'Salary', 'Buyout'], inplace=True)\n",
    "f1_2021_ratings.drop(columns=['Team', 'Contract Cost', 'Salary', 'Buyout'], inplace=True)\n",
    "f1_2022_ratings.drop(columns=['Team', 'Rank', 'Nationality', 'Contract Cost', 'Salary', 'Buyout'], inplace=True)\n",
    "f1_2023_ratings.drop(columns=['Team', 'Nationality', 'Age', 'Car Number', 'Contract Cost', 'Salary', 'Buyout'], inplace=True)"
   ]
  },
  {
   "cell_type": "code",
   "execution_count": 11,
   "id": "388e1425",
   "metadata": {},
   "outputs": [],
   "source": [
    "f1_2020_ratings.rename(columns={'Race Craft' : 'Racecraft'}, inplace=True)\n",
    "f1_2023_ratings.rename(columns={'RTG' : 'Rating', 'EXP': 'Experience', 'RAC': 'Racecraft', 'AWA' : 'Awareness', 'PAC' : 'Pace', 'RTG' : 'Rating'}, inplace=True)\n",
    "f1_2024_ratings.rename(columns={'Overall' : 'Rating'}, inplace=True)"
   ]
  },
  {
   "cell_type": "code",
   "execution_count": 12,
   "id": "70891390",
   "metadata": {},
   "outputs": [],
   "source": [
    "f1_2020_ratings = f1_2020_ratings[['Driver', 'Rating', 'Experience', 'Racecraft', 'Awareness', 'Pace']]\n",
    "f1_2024_ratings = f1_2024_ratings[['Driver', 'Rating', 'Experience', 'Racecraft', 'Awareness', 'Pace']]"
   ]
  },
  {
   "cell_type": "code",
   "execution_count": 13,
   "id": "ca889714",
   "metadata": {},
   "outputs": [],
   "source": [
    "f1_2020_ratings['Season'] = 2020\n",
    "f1_2021_ratings['Season'] = 2021\n",
    "f1_2022_ratings['Season'] = 2022\n",
    "f1_2023_ratings['Season'] = 2023\n",
    "f1_2024_ratings['Season'] = 2024"
   ]
  },
  {
   "cell_type": "code",
   "execution_count": 14,
   "id": "25cb8d45",
   "metadata": {},
   "outputs": [],
   "source": [
    "# f1_2020_ratings.head()\n",
    "# f1_2021_ratings.head()\n",
    "# f1_2022_ratings.head()\n",
    "# f1_2023_ratings.head()\n",
    "# f1_2024_ratings.head()"
   ]
  },
  {
   "cell_type": "code",
   "execution_count": 15,
   "id": "03e2041f",
   "metadata": {},
   "outputs": [],
   "source": [
    "all_ratings = pd.concat([\n",
    "    f1_2020_ratings,\n",
    "    f1_2021_ratings,\n",
    "    f1_2022_ratings,\n",
    "    f1_2023_ratings,\n",
    "    f1_2024_ratings\n",
    "], ignore_index=True)"
   ]
  },
  {
   "cell_type": "code",
   "execution_count": 16,
   "id": "8c6a4998",
   "metadata": {},
   "outputs": [
    {
     "name": "stdout",
     "output_type": "stream",
     "text": [
      "2020:(20, 7), 2021:(20, 7), 2022:(20, 7), 2023:(20, 7), 2024:(20, 7)\n"
     ]
    }
   ],
   "source": [
    "print(f'2020:{f1_2020_ratings.shape}, 2021:{f1_2021_ratings.shape}, 2022:{f1_2022_ratings.shape}, 2023:{f1_2023_ratings.shape}, 2024:{f1_2024_ratings.shape}')"
   ]
  },
  {
   "cell_type": "code",
   "execution_count": 17,
   "id": "e671f12a",
   "metadata": {},
   "outputs": [
    {
     "data": {
      "text/plain": [
       "array(['bottas', 'leclerc', 'norris', 'hamilton', 'sainz', 'perez',\n",
       "       'gasly', 'ocon', 'giovinazzi', 'vettel', 'latifi', 'kvyat',\n",
       "       'albon', 'raikkonen', 'russell', 'grosjean', 'kevin_magnussen',\n",
       "       'stroll', 'ricciardo', 'max_verstappen', 'hulkenberg', 'aitken',\n",
       "       'pietro_fittipaldi', 'tsunoda', 'mick_schumacher', 'alonso',\n",
       "       'mazepin', 'kubica', 'zhou', 'de_vries', 'sargeant', 'piastri',\n",
       "       'lawson', 'bearman', 'colapinto', 'doohan'], dtype=object)"
      ]
     },
     "execution_count": 17,
     "metadata": {},
     "output_type": "execute_result"
    }
   ],
   "source": [
    "all_results['DriverId'].unique()"
   ]
  },
  {
   "cell_type": "code",
   "execution_count": 18,
   "id": "63a73f64",
   "metadata": {},
   "outputs": [],
   "source": [
    "driver_id_map = {\n",
    "    'Valtteri Bottas': 'bottas',\n",
    "    'Charles Leclerc': 'leclerc',\n",
    "    'Lando Norris': 'norris',\n",
    "    'Lewis Hamilton': 'hamilton',\n",
    "    'Carlos Sainz': 'sainz',\n",
    "    'Carlos Sainz Jr.': 'sainz',\n",
    "    'Sergio Perez': 'perez',\n",
    "    'Pierre Gasly': 'gasly',\n",
    "    'Esteban Ocon': 'ocon',\n",
    "    'Antonio Giovinazzi': 'giovinazzi',\n",
    "    'Sebastian Vettel': 'vettel',\n",
    "    'Nicolas Latifi': 'latifi',\n",
    "    'Nicholas Latifi': 'latifi',\n",
    "    'Daniil Kvyat': 'kvyat',\n",
    "    'Alexander Albon': 'albon',\n",
    "    'Alex Albon': 'albon',\n",
    "    'Kimi Raikkönen': 'raikkonen',\n",
    "    'George Russell': 'russell',\n",
    "    'Romain Grosjean': 'grosjean',\n",
    "    'Kevin Magnussen': 'kevin_magnussen',\n",
    "    'Lance Stroll': 'stroll',\n",
    "    'Daniel Ricciardo': 'ricciardo',\n",
    "    'Max Verstappen': 'max_verstappen',\n",
    "    'Nico Hülkenberg': 'hulkenberg',\n",
    "    'Nico Hulkenberg': 'hulkenberg',\n",
    "    'Jack Aitken': 'aitken',\n",
    "    'Pietro Fittipaldi': 'pietro_fittipaldi',\n",
    "    'Yuki Tsunoda': 'tsunoda',\n",
    "    'Mick Schumacher': 'mick_schumacher',\n",
    "    'Fernando Alonso': 'alonso',\n",
    "    'Nikita Mazepin': 'mazepin',\n",
    "    'Robert Kubica': 'kubica',\n",
    "    'Zhou Guanyu': 'zhou',\n",
    "    'Guanyu Zhou': 'zhou',\n",
    "    'Nick de Vries': 'de_vries',\n",
    "    'Nyck De Vries': 'de_vries',\n",
    "    'Logan Sargeant': 'sargeant',\n",
    "    'Oscar Piastri': 'piastri',\n",
    "    'Liam Lawson': 'lawson',\n",
    "    'Oliver Bearman': 'bearman',\n",
    "    'Franco Colapinto': 'colapinto',\n",
    "    'Jack Doohan': 'doohan',\n",
    "}"
   ]
  },
  {
   "cell_type": "code",
   "execution_count": 19,
   "id": "7506bb2c",
   "metadata": {},
   "outputs": [
    {
     "data": {
      "text/plain": [
       "array(['max_verstappen', 'albon', 'perez', 'stroll', 'gasly', 'kvyat',\n",
       "       'hamilton', 'bottas', 'ricciardo', 'ocon', 'russell', 'latifi',\n",
       "       'leclerc', 'vettel', 'raikkonen', 'giovinazzi', 'kevin_magnussen',\n",
       "       'grosjean', 'sainz', 'norris', 'tsunoda', 'alonso', 'mazepin',\n",
       "       'mick_schumacher', 'zhou', 'hulkenberg', 'piastri', 'sargeant',\n",
       "       'de_vries'], dtype=object)"
      ]
     },
     "execution_count": 19,
     "metadata": {},
     "output_type": "execute_result"
    }
   ],
   "source": [
    "all_ratings['DriverId'] = all_ratings['Driver'].replace(driver_id_map)\n",
    "all_ratings.drop(columns=['Driver'], inplace=True)\n",
    "all_ratings = all_ratings[['DriverId', 'Rating', 'Experience', 'Racecraft', 'Awareness', 'Pace', 'Season']]\n",
    "all_ratings['DriverId'].unique()"
   ]
  },
  {
   "cell_type": "code",
   "execution_count": 20,
   "id": "1a20d5eb",
   "metadata": {},
   "outputs": [],
   "source": [
    "all_ratings = all_ratings[['DriverId', 'Rating', 'Season']]\n",
    "all_ratings.to_csv('processed_data/f1_ratings_all.csv', index=False)"
   ]
  }
 ],
 "metadata": {
  "kernelspec": {
   "display_name": ".venv",
   "language": "python",
   "name": "python3"
  },
  "language_info": {
   "codemirror_mode": {
    "name": "ipython",
    "version": 3
   },
   "file_extension": ".py",
   "mimetype": "text/x-python",
   "name": "python",
   "nbconvert_exporter": "python",
   "pygments_lexer": "ipython3",
   "version": "3.12.8"
  }
 },
 "nbformat": 4,
 "nbformat_minor": 5
}
