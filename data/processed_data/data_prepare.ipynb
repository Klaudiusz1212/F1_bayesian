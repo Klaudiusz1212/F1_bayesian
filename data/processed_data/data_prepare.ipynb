{
 "cells": [
  {
   "cell_type": "markdown",
   "id": "8484fe81",
   "metadata": {},
   "source": [
    "# Data Preparation for F1 Bayesian Analysis\n",
    "\n",
    "This notebook prepares and processes F1 race results and driver ratings data for further analysis."
   ]
  },
  {
   "cell_type": "code",
   "execution_count": 1,
   "id": "568c39fd",
   "metadata": {},
   "outputs": [],
   "source": [
    "import pandas as pd\n",
    "import numpy as np"
   ]
  },
  {
   "cell_type": "markdown",
   "id": "1bff0774",
   "metadata": {},
   "source": [
    "## Load Race Results Data\n",
    "\n",
    "Read final race results from CSV files for each season."
   ]
  },
  {
   "cell_type": "code",
   "execution_count": 2,
   "id": "3e809eff",
   "metadata": {},
   "outputs": [],
   "source": [
    "results_2019 = pd.read_csv('raw_data/final_results_2019.csv')\n",
    "results_2020 = pd.read_csv('raw_data/final_results_2020.csv')\n",
    "results_2021 = pd.read_csv('raw_data/final_results_2021.csv')\n",
    "results_2022 = pd.read_csv('raw_data/final_results_2022.csv')\n",
    "results_2023 = pd.read_csv('raw_data/final_results_2023.csv')\n",
    "results_2024 = pd.read_csv('raw_data/final_results_2024.csv')"
   ]
  },
  {
   "cell_type": "markdown",
   "id": "e225fcef",
   "metadata": {},
   "source": [
    "## Concatenate Results\n",
    "\n",
    "Combine results from all seasons into a single DataFrame."
   ]
  },
  {
   "cell_type": "code",
   "execution_count": 3,
   "id": "afafc22f",
   "metadata": {},
   "outputs": [],
   "source": [
    "all_results = pd.concat([\n",
    "    # results_2019,\n",
    "    results_2020,\n",
    "    results_2021,\n",
    "    results_2022,\n",
    "    results_2023,\n",
    "    results_2024\n",
    "], ignore_index=True)"
   ]
  },
  {
   "cell_type": "markdown",
   "id": "bf31b8f3",
   "metadata": {},
   "source": [
    "## Drop Unnecessary Columns\n",
    "\n",
    "Remove columns that are not needed for further analysis."
   ]
  },
  {
   "cell_type": "code",
   "execution_count": 4,
   "id": "fa327f27",
   "metadata": {},
   "outputs": [],
   "source": [
    "all_results.drop(columns=['DriverNumber', 'Abbreviation', 'EventName', 'Round'], inplace=True)"
   ]
  },
  {
   "cell_type": "markdown",
   "id": "62bf9ba5",
   "metadata": {},
   "source": [
    "## Inspect Unique Teams\n",
    "\n",
    "Check the unique team identifiers in the results."
   ]
  },
  {
   "cell_type": "code",
   "execution_count": 5,
   "id": "a4c7cb07",
   "metadata": {},
   "outputs": [
    {
     "data": {
      "text/plain": [
       "array(['mercedes', 'ferrari', 'mclaren', 'racing_point', 'alphatauri',\n",
       "       'renault', 'alfa', 'williams', 'red_bull', 'haas', 'aston_martin',\n",
       "       'alpine', 'sauber', 'rb'], dtype=object)"
      ]
     },
     "execution_count": 5,
     "metadata": {},
     "output_type": "execute_result"
    }
   ],
   "source": [
    "all_results['TeamId'].unique()"
   ]
  },
  {
   "cell_type": "markdown",
   "id": "47d9542a",
   "metadata": {},
   "source": [
    "## Standardize Team Names\n",
    "\n",
    "Replace old or inconsistent team names with standardized ones."
   ]
  },
  {
   "cell_type": "code",
   "execution_count": 6,
   "id": "dd70c606",
   "metadata": {},
   "outputs": [],
   "source": [
    "all_results.replace({'TeamId': {\n",
    "    'renault': 'alpine',\n",
    "    'alfa' : 'sauber',\n",
    "    'toro_rosso' : 'rb',\n",
    "    'alphatauri' : 'rb',\n",
    "    'racing_point' : 'aston_martin',\n",
    "}}, inplace=True)"
   ]
  },
  {
   "cell_type": "markdown",
   "id": "df46b944",
   "metadata": {},
   "source": [
    "## Verify Team Name Standardization\n",
    "\n",
    "Check the unique team identifiers after standardization."
   ]
  },
  {
   "cell_type": "code",
   "execution_count": 7,
   "id": "fd8f363e",
   "metadata": {},
   "outputs": [
    {
     "data": {
      "text/plain": [
       "array(['mercedes', 'ferrari', 'mclaren', 'aston_martin', 'rb', 'alpine',\n",
       "       'sauber', 'williams', 'red_bull', 'haas'], dtype=object)"
      ]
     },
     "execution_count": 7,
     "metadata": {},
     "output_type": "execute_result"
    }
   ],
   "source": [
    "all_results['TeamId'].unique()\n"
   ]
  },
  {
   "cell_type": "markdown",
   "id": "d60d0104",
   "metadata": {},
   "source": [
    "## Save Processed Results\n",
    "\n",
    "Export the cleaned and combined results to a CSV file."
   ]
  },
  {
   "cell_type": "code",
   "execution_count": 8,
   "id": "ac3740a4",
   "metadata": {},
   "outputs": [],
   "source": [
    "all_results.to_csv('processed_data/final_results_all.csv', index=False)"
   ]
  },
  {
   "cell_type": "markdown",
   "id": "aa2b2446",
   "metadata": {},
   "source": [
    "## Load Driver Ratings Data\n",
    "\n",
    "Read driver ratings from F1 video game CSV files for each season."
   ]
  },
  {
   "cell_type": "code",
   "execution_count": 9,
   "id": "cd6a5204",
   "metadata": {},
   "outputs": [],
   "source": [
    "f1_2020_ratings = pd.read_csv('raw_data/f1_2020_videogame_driver_ratings_initial.csv')\n",
    "f1_2021_ratings = pd.read_csv('raw_data/f1_2021_videogame_driver_ratings_initial.csv')\n",
    "f1_2022_ratings = pd.read_csv('raw_data/f1_22_videogame_driver_ratings_initial.csv')\n",
    "f1_2023_ratings = pd.read_csv('raw_data/F1_23_videogame_driver_ratings_initial.csv')\n",
    "f1_2024_ratings = pd.read_csv('raw_data/f1_24_videogame_driver_ratings.csv')"
   ]
  },
  {
   "cell_type": "markdown",
   "id": "bebb8d8f",
   "metadata": {},
   "source": [
    "## Drop Unnecessary Rating Columns\n",
    "\n",
    "Remove columns from ratings data that are not needed for analysis."
   ]
  },
  {
   "cell_type": "code",
   "execution_count": 10,
   "id": "b6c18904",
   "metadata": {},
   "outputs": [],
   "source": [
    "f1_2020_ratings.drop(columns=['Team', 'Contract Cost', 'Salary', 'Buyout'], inplace=True)\n",
    "f1_2021_ratings.drop(columns=['Team', 'Contract Cost', 'Salary', 'Buyout'], inplace=True)\n",
    "f1_2022_ratings.drop(columns=['Team', 'Rank', 'Nationality', 'Contract Cost', 'Salary', 'Buyout'], inplace=True)\n",
    "f1_2023_ratings.drop(columns=['Team', 'Nationality', 'Age', 'Car Number', 'Contract Cost', 'Salary', 'Buyout'], inplace=True)"
   ]
  },
  {
   "cell_type": "markdown",
   "id": "8e770ac5",
   "metadata": {},
   "source": [
    "## Standardize Ratings Column Names\n",
    "\n",
    "Rename columns for consistency across seasons."
   ]
  },
  {
   "cell_type": "code",
   "execution_count": 11,
   "id": "388e1425",
   "metadata": {},
   "outputs": [],
   "source": [
    "f1_2020_ratings.rename(columns={'Race Craft' : 'Racecraft'}, inplace=True)\n",
    "f1_2023_ratings.rename(columns={'RTG' : 'Rating', 'EXP': 'Experience', 'RAC': 'Racecraft', 'AWA' : 'Awareness', 'PAC' : 'Pace', 'RTG' : 'Rating'}, inplace=True)\n",
    "f1_2024_ratings.rename(columns={'Overall' : 'Rating'}, inplace=True)"
   ]
  },
  {
   "cell_type": "markdown",
   "id": "e60f39ff",
   "metadata": {},
   "source": [
    "## Select Relevant Rating Columns\n",
    "\n",
    "Keep only the relevant columns for each season's ratings."
   ]
  },
  {
   "cell_type": "code",
   "execution_count": 12,
   "id": "70891390",
   "metadata": {},
   "outputs": [],
   "source": [
    "f1_2020_ratings = f1_2020_ratings[['Driver', 'Rating', 'Experience', 'Racecraft', 'Awareness', 'Pace']]\n",
    "f1_2024_ratings = f1_2024_ratings[['Driver', 'Rating', 'Experience', 'Racecraft', 'Awareness', 'Pace']]"
   ]
  },
  {
   "cell_type": "markdown",
   "id": "ddf86a4a",
   "metadata": {},
   "source": [
    "## Add Season Information\n",
    "\n",
    "Add a column indicating the season for each ratings DataFrame."
   ]
  },
  {
   "cell_type": "code",
   "execution_count": 13,
   "id": "ca889714",
   "metadata": {},
   "outputs": [],
   "source": [
    "f1_2020_ratings['Season'] = 2020\n",
    "f1_2021_ratings['Season'] = 2021\n",
    "f1_2022_ratings['Season'] = 2022\n",
    "f1_2023_ratings['Season'] = 2023\n",
    "f1_2024_ratings['Season'] = 2024"
   ]
  },
  {
   "cell_type": "markdown",
   "id": "23daacea",
   "metadata": {},
   "source": [
    "## (Optional) Preview Ratings Data\n",
    "\n",
    "Preview the ratings data for each season (commented out)."
   ]
  },
  {
   "cell_type": "code",
   "execution_count": 14,
   "id": "25cb8d45",
   "metadata": {},
   "outputs": [],
   "source": [
    "# f1_2020_ratings.head()\n",
    "# f1_2021_ratings.head()\n",
    "# f1_2022_ratings.head()\n",
    "# f1_2023_ratings.head()\n",
    "# f1_2024_ratings.head()"
   ]
  },
  {
   "cell_type": "markdown",
   "id": "626b1745",
   "metadata": {},
   "source": [
    "## Concatenate All Ratings\n",
    "\n",
    "Combine ratings from all seasons into a single DataFrame."
   ]
  },
  {
   "cell_type": "code",
   "execution_count": 15,
   "id": "03e2041f",
   "metadata": {},
   "outputs": [],
   "source": [
    "all_ratings = pd.concat([\n",
    "    f1_2020_ratings,\n",
    "    f1_2021_ratings,\n",
    "    f1_2022_ratings,\n",
    "    f1_2023_ratings,\n",
    "    f1_2024_ratings\n",
    "], ignore_index=True)"
   ]
  },
  {
   "cell_type": "markdown",
   "id": "8c4757e4",
   "metadata": {},
   "source": [
    "## Check Ratings Data Shapes\n",
    "\n",
    "Print the shape of each season's ratings DataFrame."
   ]
  },
  {
   "cell_type": "code",
   "execution_count": 16,
   "id": "8c6a4998",
   "metadata": {},
   "outputs": [
    {
     "name": "stdout",
     "output_type": "stream",
     "text": [
      "2020:(20, 7), 2021:(20, 7), 2022:(20, 7), 2023:(20, 7), 2024:(20, 7)\n"
     ]
    }
   ],
   "source": [
    "print(f'2020:{f1_2020_ratings.shape}, 2021:{f1_2021_ratings.shape}, 2022:{f1_2022_ratings.shape}, 2023:{f1_2023_ratings.shape}, 2024:{f1_2024_ratings.shape}')"
   ]
  },
  {
   "cell_type": "markdown",
   "id": "ce0814bb",
   "metadata": {},
   "source": [
    "## Inspect Unique Driver IDs in Results\n",
    "\n",
    "Check the unique driver identifiers in the results data."
   ]
  },
  {
   "cell_type": "code",
   "execution_count": 17,
   "id": "e671f12a",
   "metadata": {},
   "outputs": [
    {
     "data": {
      "text/plain": [
       "array(['bottas', 'leclerc', 'norris', 'hamilton', 'sainz', 'perez',\n",
       "       'gasly', 'ocon', 'giovinazzi', 'vettel', 'latifi', 'kvyat',\n",
       "       'albon', 'raikkonen', 'russell', 'grosjean', 'kevin_magnussen',\n",
       "       'stroll', 'ricciardo', 'max_verstappen', 'hulkenberg', 'aitken',\n",
       "       'pietro_fittipaldi', 'tsunoda', 'mick_schumacher', 'alonso',\n",
       "       'mazepin', 'kubica', 'zhou', 'de_vries', 'sargeant', 'piastri',\n",
       "       'lawson', 'bearman', 'colapinto', 'doohan'], dtype=object)"
      ]
     },
     "execution_count": 17,
     "metadata": {},
     "output_type": "execute_result"
    }
   ],
   "source": [
    "all_results['DriverId'].unique()"
   ]
  },
  {
   "cell_type": "markdown",
   "id": "8ce3ad86",
   "metadata": {},
   "source": [
    "## Map Driver Names to IDs\n",
    "\n",
    "Create a mapping from driver names to standardized driver IDs."
   ]
  },
  {
   "cell_type": "code",
   "execution_count": 18,
   "id": "63a73f64",
   "metadata": {},
   "outputs": [],
   "source": [
    "driver_id_map = {\n",
    "    'Valtteri Bottas': 'bottas',\n",
    "    'Charles Leclerc': 'leclerc',\n",
    "    'Lando Norris': 'norris',\n",
    "    'Lewis Hamilton': 'hamilton',\n",
    "    'Carlos Sainz': 'sainz',\n",
    "    'Carlos Sainz Jr.': 'sainz',\n",
    "    'Sergio Perez': 'perez',\n",
    "    'Pierre Gasly': 'gasly',\n",
    "    'Esteban Ocon': 'ocon',\n",
    "    'Antonio Giovinazzi': 'giovinazzi',\n",
    "    'Sebastian Vettel': 'vettel',\n",
    "    'Nicolas Latifi': 'latifi',\n",
    "    'Nicholas Latifi': 'latifi',\n",
    "    'Daniil Kvyat': 'kvyat',\n",
    "    'Alexander Albon': 'albon',\n",
    "    'Alex Albon': 'albon',\n",
    "    'Kimi Raikkönen': 'raikkonen',\n",
    "    'George Russell': 'russell',\n",
    "    'Romain Grosjean': 'grosjean',\n",
    "    'Kevin Magnussen': 'kevin_magnussen',\n",
    "    'Lance Stroll': 'stroll',\n",
    "    'Daniel Ricciardo': 'ricciardo',\n",
    "    'Max Verstappen': 'max_verstappen',\n",
    "    'Nico Hülkenberg': 'hulkenberg',\n",
    "    'Nico Hulkenberg': 'hulkenberg',\n",
    "    'Jack Aitken': 'aitken',\n",
    "    'Pietro Fittipaldi': 'pietro_fittipaldi',\n",
    "    'Yuki Tsunoda': 'tsunoda',\n",
    "    'Mick Schumacher': 'mick_schumacher',\n",
    "    'Fernando Alonso': 'alonso',\n",
    "    'Nikita Mazepin': 'mazepin',\n",
    "    'Robert Kubica': 'kubica',\n",
    "    'Zhou Guanyu': 'zhou',\n",
    "    'Guanyu Zhou': 'zhou',\n",
    "    'Nick de Vries': 'de_vries',\n",
    "    'Nyck De Vries': 'de_vries',\n",
    "    'Logan Sargeant': 'sargeant',\n",
    "    'Oscar Piastri': 'piastri',\n",
    "    'Liam Lawson': 'lawson',\n",
    "    'Oliver Bearman': 'bearman',\n",
    "    'Franco Colapinto': 'colapinto',\n",
    "    'Jack Doohan': 'doohan',\n",
    "}"
   ]
  },
  {
   "cell_type": "markdown",
   "id": "4822f1e7",
   "metadata": {},
   "source": [
    "## Apply Driver ID Mapping\n",
    "\n",
    "Replace driver names with standardized IDs and select relevant columns."
   ]
  },
  {
   "cell_type": "code",
   "execution_count": 19,
   "id": "7506bb2c",
   "metadata": {},
   "outputs": [
    {
     "data": {
      "text/plain": [
       "array(['max_verstappen', 'albon', 'perez', 'stroll', 'gasly', 'kvyat',\n",
       "       'hamilton', 'bottas', 'ricciardo', 'ocon', 'russell', 'latifi',\n",
       "       'leclerc', 'vettel', 'raikkonen', 'giovinazzi', 'kevin_magnussen',\n",
       "       'grosjean', 'sainz', 'norris', 'tsunoda', 'alonso', 'mazepin',\n",
       "       'mick_schumacher', 'zhou', 'hulkenberg', 'piastri', 'sargeant',\n",
       "       'de_vries'], dtype=object)"
      ]
     },
     "execution_count": 19,
     "metadata": {},
     "output_type": "execute_result"
    }
   ],
   "source": [
    "all_ratings['DriverId'] = all_ratings['Driver'].replace(driver_id_map)\n",
    "all_ratings.drop(columns=['Driver'], inplace=True)\n",
    "all_ratings = all_ratings[['DriverId', 'Rating', 'Experience', 'Racecraft', 'Awareness', 'Pace', 'Season']]\n",
    "all_ratings['DriverId'].unique()"
   ]
  },
  {
   "cell_type": "markdown",
   "id": "d4a653fc",
   "metadata": {},
   "source": [
    "## Finalize and Save Ratings Data\n",
    "\n",
    "Keep only necessary columns and save the processed ratings to CSV."
   ]
  },
  {
   "cell_type": "code",
   "execution_count": 20,
   "id": "1a20d5eb",
   "metadata": {},
   "outputs": [],
   "source": [
    "all_ratings = all_ratings[['DriverId', 'Rating', 'Season']]\n",
    "all_ratings.to_csv('processed_data/f1_ratings_all.csv', index=False)"
   ]
  },
  {
   "cell_type": "markdown",
   "id": "c2565dfe",
   "metadata": {},
   "source": [
    "## Load Engine Data\n",
    "\n",
    "Read F1 engine supplier data for each team and season."
   ]
  },
  {
   "cell_type": "code",
   "execution_count": 21,
   "id": "86f90f25",
   "metadata": {},
   "outputs": [],
   "source": [
    "engines = pd.read_csv('raw_data/F1Engines2019_2024.csv', delimiter=';')\n",
    "engines.drop(columns=['2019'], inplace=True)"
   ]
  },
  {
   "cell_type": "code",
   "execution_count": 22,
   "id": "ad76c6bb",
   "metadata": {},
   "outputs": [
    {
     "data": {
      "text/plain": [
       "array(['mercedes', 'ferrari', 'mclaren', 'aston_martin', 'rb', 'alpine',\n",
       "       'sauber', 'williams', 'red_bull', 'haas'], dtype=object)"
      ]
     },
     "execution_count": 22,
     "metadata": {},
     "output_type": "execute_result"
    }
   ],
   "source": [
    "all_results['TeamId'].unique()"
   ]
  },
  {
   "cell_type": "code",
   "execution_count": 23,
   "id": "a35c05de",
   "metadata": {},
   "outputs": [],
   "source": [
    "teams_map = {\n",
    "    'Mercedes': 'mercedes',\n",
    "    'Ferrari': 'ferrari',\n",
    "    'Red Bull': 'red_bull',\n",
    "    'McLaren': 'mclaren',\n",
    "    'Renault/Alpine': 'alpine',\n",
    "    'Williams': 'williams',\n",
    "    'Racing Point/Aston Martin': 'aston_martin',\n",
    "    'Haas': 'haas',\n",
    "    'VCARB (ex-AlphaTauri/Toro Rosso)': 'rb',\n",
    "    'Stake (ex-Alfa Romeo)': 'sauber',\n",
    "}\n",
    "\n",
    "engines_map = {\n",
    "    'Mercedes': 'mercedes',\n",
    "    'Ferrari': 'ferrari',\n",
    "    'Honda': 'rbpt',\n",
    "    'Red Bull Powertrains (Honda)': 'rbpt',\n",
    "    'Renault': 'renault',\n",
    "}"
   ]
  },
  {
   "cell_type": "markdown",
   "id": "d33db3ea",
   "metadata": {},
   "source": [
    "## Standardize Engine Supplier Data and convert to long format\n",
    "\n",
    "Replace team and engine supplier names with standardized IDs for all seasons, select relevant columns, convert it to long format and save the processed engine data to CSV."
   ]
  },
  {
   "cell_type": "code",
   "execution_count": 24,
   "id": "98656f40",
   "metadata": {},
   "outputs": [],
   "source": [
    "engines['TeamId'] = engines['Team'].replace(teams_map)\n",
    "for year in ['2020', '2021', '2022', '2023', '2024']:\n",
    "    engines[year] = engines[year].replace(engines_map)\n",
    "engines = engines[['TeamId', '2020', '2021', '2022', '2023', '2024']]\n",
    "\n",
    "# Melt engine data to long format\n",
    "engines_long = engines.melt(id_vars='TeamId', var_name='Season', value_name='Engine')\n",
    "engines_long['Season'] = engines_long['Season'].astype(int)\n",
    "\n",
    "engines_long.to_csv('processed_data/f1_engines_all.csv', index=False)"
   ]
  },
  {
   "cell_type": "markdown",
   "id": "bd465d6a",
   "metadata": {},
   "source": [
    "## Concatenate All Processed Data and Map Engine by Year/Constructor\n",
    "\n",
    "Combine all processed data into a single DataFrame, mapping engine supplier by year and constructor."
   ]
  },
  {
   "cell_type": "code",
   "execution_count": 25,
   "id": "530b7c97",
   "metadata": {},
   "outputs": [
    {
     "name": "stdout",
     "output_type": "stream",
     "text": [
      "Dropped rows due to missing values:\n",
      "               DriverId  Rating  Position        TeamId    Engine  Season\n",
      "79           hulkenberg     NaN      20.0  aston_martin  mercedes    2020\n",
      "86           hulkenberg     NaN       7.0  aston_martin  mercedes    2020\n",
      "207          hulkenberg     NaN       8.0  aston_martin  mercedes    2020\n",
      "315              aitken     NaN      16.0      williams  mercedes    2020\n",
      "316   pietro_fittipaldi     NaN      17.0          haas   ferrari    2020\n",
      "338   pietro_fittipaldi     NaN      19.0          haas   ferrari    2020\n",
      "594              kubica     NaN      15.0        sauber   ferrari    2021\n",
      "613              kubica     NaN      14.0        sauber   ferrari    2021\n",
      "779             mazepin    67.0       NaN          haas   ferrari    2021\n",
      "796          hulkenberg     NaN      17.0  aston_martin  mercedes    2022\n",
      "811          hulkenberg     NaN      12.0  aston_martin  mercedes    2022\n",
      "819     mick_schumacher    77.0       NaN          haas   ferrari    2022\n",
      "1088           de_vries     NaN       9.0      williams  mercedes    2022\n",
      "1412          ricciardo     NaN      13.0            rb      rbpt    2023\n",
      "1435          ricciardo     NaN      16.0            rb      rbpt    2023\n",
      "1452             lawson     NaN      13.0            rb      rbpt    2023\n",
      "1470             lawson     NaN      11.0            rb      rbpt    2023\n",
      "1488             lawson     NaN       9.0            rb      rbpt    2023\n",
      "1499             stroll    84.0       NaN  aston_martin  mercedes    2023\n",
      "1510             lawson     NaN      11.0            rb      rbpt    2023\n",
      "1536             lawson     NaN      17.0            rb      rbpt    2023\n",
      "1554          ricciardo     NaN      15.0            rb      rbpt    2023\n",
      "1566          ricciardo     NaN       7.0            rb      rbpt    2023\n",
      "1592          ricciardo     NaN      13.0            rb      rbpt    2023\n",
      "1613          ricciardo     NaN      14.0            rb      rbpt    2023\n",
      "1630          ricciardo     NaN      11.0            rb      rbpt    2023\n",
      "1666            bearman     NaN       7.0       ferrari   ferrari    2024\n",
      "1950          colapinto     NaN      12.0      williams  mercedes    2024\n",
      "1966          colapinto     NaN       8.0      williams  mercedes    2024\n",
      "1968            bearman     NaN      10.0          haas   ferrari    2024\n",
      "1989          colapinto     NaN      11.0      williams  mercedes    2024\n",
      "2007             lawson     NaN       9.0            rb      rbpt    2024\n",
      "2008          colapinto     NaN      10.0      williams  mercedes    2024\n",
      "2030          colapinto     NaN      12.0      williams  mercedes    2024\n",
      "2034             lawson     NaN      16.0            rb      rbpt    2024\n",
      "2047             lawson     NaN       9.0            rb      rbpt    2024\n",
      "2050            bearman     NaN      12.0          haas   ferrari    2024\n",
      "2055          colapinto     NaN      17.0      williams  mercedes    2024\n",
      "2072          colapinto     NaN      14.0      williams  mercedes    2024\n",
      "2074             lawson     NaN      16.0            rb      rbpt    2024\n",
      "2092             lawson     NaN      14.0            rb      rbpt    2024\n",
      "2097          colapinto     NaN      19.0      williams  mercedes    2024\n",
      "2113             doohan     NaN      15.0        alpine   renault    2024\n",
      "2115             lawson     NaN      17.0            rb      rbpt    2024\n",
      "2117          colapinto     NaN      19.0      williams  mercedes    2024\n"
     ]
    }
   ],
   "source": [
    "results_all = pd.read_csv('processed_data/final_results_all.csv')\n",
    "engines_all = pd.read_csv('processed_data/f1_engines_all.csv')\n",
    "ratings_all = pd.read_csv('processed_data/f1_ratings_all.csv')\n",
    "\n",
    "# Merge results with engine and ratings\n",
    "data = results_all.merge(engines_long, on=['TeamId', 'Season'], how='left')\n",
    "data = data.merge(ratings_all, on=['DriverId', 'Season'], how='left')\n",
    "\n",
    "data = data[['DriverId', 'Rating', 'Position', 'TeamId', 'Engine', 'Season']]\n",
    "\n",
    "# Print and drop rows with any missing values\n",
    "dropped_rows = data[data.isnull().any(axis=1)]\n",
    "if not dropped_rows.empty:\n",
    "    print(\"Dropped rows due to missing values:\")\n",
    "    print(dropped_rows)\n",
    "data = data.dropna()\n",
    "\n",
    "# Save the concatenated DataFrame\n",
    "data.to_csv('processed_data/data.csv', index=False)"
   ]
  },
  {
   "cell_type": "code",
   "execution_count": 31,
   "id": "c5a3eb54-89e9-4fa0-ad64-9469b7326fed",
   "metadata": {},
   "outputs": [
    {
     "data": {
      "text/html": [
       "<div>\n",
       "<style scoped>\n",
       "    .dataframe tbody tr th:only-of-type {\n",
       "        vertical-align: middle;\n",
       "    }\n",
       "\n",
       "    .dataframe tbody tr th {\n",
       "        vertical-align: top;\n",
       "    }\n",
       "\n",
       "    .dataframe thead th {\n",
       "        text-align: right;\n",
       "    }\n",
       "</style>\n",
       "<table border=\"1\" class=\"dataframe\">\n",
       "  <thead>\n",
       "    <tr style=\"text-align: right;\">\n",
       "      <th></th>\n",
       "      <th>Season</th>\n",
       "      <th>DriverId</th>\n",
       "      <th>SeasonStanding</th>\n",
       "    </tr>\n",
       "  </thead>\n",
       "  <tbody>\n",
       "    <tr>\n",
       "      <th>0</th>\n",
       "      <td>2020</td>\n",
       "      <td>hamilton</td>\n",
       "      <td>1</td>\n",
       "    </tr>\n",
       "    <tr>\n",
       "      <th>1</th>\n",
       "      <td>2020</td>\n",
       "      <td>bottas</td>\n",
       "      <td>2</td>\n",
       "    </tr>\n",
       "    <tr>\n",
       "      <th>2</th>\n",
       "      <td>2020</td>\n",
       "      <td>max_verstappen</td>\n",
       "      <td>3</td>\n",
       "    </tr>\n",
       "    <tr>\n",
       "      <th>3</th>\n",
       "      <td>2020</td>\n",
       "      <td>perez</td>\n",
       "      <td>4</td>\n",
       "    </tr>\n",
       "    <tr>\n",
       "      <th>4</th>\n",
       "      <td>2020</td>\n",
       "      <td>ricciardo</td>\n",
       "      <td>5</td>\n",
       "    </tr>\n",
       "    <tr>\n",
       "      <th>5</th>\n",
       "      <td>2020</td>\n",
       "      <td>albon</td>\n",
       "      <td>6</td>\n",
       "    </tr>\n",
       "    <tr>\n",
       "      <th>6</th>\n",
       "      <td>2020</td>\n",
       "      <td>sainz</td>\n",
       "      <td>7</td>\n",
       "    </tr>\n",
       "    <tr>\n",
       "      <th>7</th>\n",
       "      <td>2020</td>\n",
       "      <td>leclerc</td>\n",
       "      <td>8</td>\n",
       "    </tr>\n",
       "    <tr>\n",
       "      <th>8</th>\n",
       "      <td>2020</td>\n",
       "      <td>norris</td>\n",
       "      <td>9</td>\n",
       "    </tr>\n",
       "    <tr>\n",
       "      <th>9</th>\n",
       "      <td>2020</td>\n",
       "      <td>gasly</td>\n",
       "      <td>10</td>\n",
       "    </tr>\n",
       "    <tr>\n",
       "      <th>10</th>\n",
       "      <td>2020</td>\n",
       "      <td>stroll</td>\n",
       "      <td>11</td>\n",
       "    </tr>\n",
       "    <tr>\n",
       "      <th>11</th>\n",
       "      <td>2020</td>\n",
       "      <td>ocon</td>\n",
       "      <td>12</td>\n",
       "    </tr>\n",
       "    <tr>\n",
       "      <th>12</th>\n",
       "      <td>2020</td>\n",
       "      <td>vettel</td>\n",
       "      <td>13</td>\n",
       "    </tr>\n",
       "    <tr>\n",
       "      <th>13</th>\n",
       "      <td>2020</td>\n",
       "      <td>kvyat</td>\n",
       "      <td>14</td>\n",
       "    </tr>\n",
       "    <tr>\n",
       "      <th>14</th>\n",
       "      <td>2020</td>\n",
       "      <td>giovinazzi</td>\n",
       "      <td>15</td>\n",
       "    </tr>\n",
       "    <tr>\n",
       "      <th>15</th>\n",
       "      <td>2020</td>\n",
       "      <td>raikkonen</td>\n",
       "      <td>16</td>\n",
       "    </tr>\n",
       "    <tr>\n",
       "      <th>16</th>\n",
       "      <td>2020</td>\n",
       "      <td>grosjean</td>\n",
       "      <td>17</td>\n",
       "    </tr>\n",
       "    <tr>\n",
       "      <th>17</th>\n",
       "      <td>2020</td>\n",
       "      <td>russell</td>\n",
       "      <td>18</td>\n",
       "    </tr>\n",
       "    <tr>\n",
       "      <th>18</th>\n",
       "      <td>2020</td>\n",
       "      <td>kevin_magnussen</td>\n",
       "      <td>19</td>\n",
       "    </tr>\n",
       "    <tr>\n",
       "      <th>19</th>\n",
       "      <td>2020</td>\n",
       "      <td>latifi</td>\n",
       "      <td>20</td>\n",
       "    </tr>\n",
       "  </tbody>\n",
       "</table>\n",
       "</div>"
      ],
      "text/plain": [
       "    Season         DriverId  SeasonStanding\n",
       "0     2020         hamilton               1\n",
       "1     2020           bottas               2\n",
       "2     2020   max_verstappen               3\n",
       "3     2020            perez               4\n",
       "4     2020        ricciardo               5\n",
       "5     2020            albon               6\n",
       "6     2020            sainz               7\n",
       "7     2020          leclerc               8\n",
       "8     2020           norris               9\n",
       "9     2020            gasly              10\n",
       "10    2020           stroll              11\n",
       "11    2020             ocon              12\n",
       "12    2020           vettel              13\n",
       "13    2020            kvyat              14\n",
       "14    2020       giovinazzi              15\n",
       "15    2020        raikkonen              16\n",
       "16    2020         grosjean              17\n",
       "17    2020          russell              18\n",
       "18    2020  kevin_magnussen              19\n",
       "19    2020           latifi              20"
      ]
     },
     "execution_count": 31,
     "metadata": {},
     "output_type": "execute_result"
    }
   ],
   "source": [
    "f1_points = {\n",
    "    1: 25,\n",
    "    2: 18,\n",
    "    3: 15,\n",
    "    4: 12,\n",
    "    5: 10,\n",
    "    6: 8,\n",
    "    7: 6,\n",
    "    8: 4,\n",
    "    9: 2,\n",
    "    10: 1\n",
    "}\n",
    "\n",
    "data['RacePoints'] = data['Position'].map(f1_points).fillna(0)\n",
    "\n",
    "points_by_driver_season = (\n",
    "    data.groupby(['Season', 'DriverId'])['RacePoints']\n",
    "    .sum()\n",
    "    .reset_index()\n",
    ")\n",
    "\n",
    "points_by_driver_season['SeasonStanding'] = (\n",
    "    points_by_driver_season\n",
    "    .groupby('Season')['RacePoints']\n",
    "    .rank(method='first', ascending=False)\n",
    "    .astype(int)\n",
    ")\n",
    "\n",
    "df_with_f1_standing = data.merge(\n",
    "    points_by_driver_season[['Season', 'DriverId', 'SeasonStanding']],\n",
    "    on=['Season', 'DriverId'],\n",
    "    how='left'\n",
    ")\n",
    "\n",
    "final_f1_season_standings = (\n",
    "    df_with_f1_standing[['Season', 'DriverId', 'SeasonStanding']]\n",
    "    .drop_duplicates()\n",
    "    .sort_values(['Season', 'SeasonStanding'])\n",
    "    .reset_index(drop=True)\n",
    ")\n",
    "\n",
    "final_f1_season_standings.head(10)\n",
    "final_f1_season_standings.to_csv('processed_data/final_positin.csv', index=False)"
   ]
  },
  {
   "cell_type": "code",
   "execution_count": null,
   "id": "2060447c-fc60-4e94-950b-d9ca9700bdd1",
   "metadata": {},
   "outputs": [],
   "source": []
  }
 ],
 "metadata": {
  "kernelspec": {
   "display_name": "Python 3 (ipykernel)",
   "language": "python",
   "name": "python3"
  },
  "language_info": {
   "codemirror_mode": {
    "name": "ipython",
    "version": 3
   },
   "file_extension": ".py",
   "mimetype": "text/x-python",
   "name": "python",
   "nbconvert_exporter": "python",
   "pygments_lexer": "ipython3",
   "version": "3.11.11"
  }
 },
 "nbformat": 4,
 "nbformat_minor": 5
}
