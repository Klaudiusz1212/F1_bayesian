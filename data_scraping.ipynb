{
 "cells": [
  {
   "cell_type": "markdown",
   "id": "f6d56c43",
   "metadata": {},
   "source": [
    "# F1 Data Scraping with FastF1\n",
    "\n",
    "This notebook is used to scrape Formula 1 race results data using the FastF1 library and save it for further analysis."
   ]
  },
  {
   "cell_type": "code",
   "execution_count": null,
   "id": "59112428",
   "metadata": {},
   "outputs": [],
   "source": [
    "import fastf1\n",
    "import pandas as pd\n",
    "import matplotlib.pyplot as plt\n",
    "import numpy as np\n",
    "import os"
   ]
  },
  {
   "cell_type": "markdown",
   "id": "34bca405",
   "metadata": {},
   "source": [
    "## Enable FastF1 Cache\n",
    "\n",
    "Create a cache directory if it does not exist and enable FastF1's caching mechanism to speed up data retrieval."
   ]
  },
  {
   "cell_type": "code",
   "execution_count": null,
   "id": "6d5503bd",
   "metadata": {},
   "outputs": [],
   "source": [
    "if not os.path.exists('fastf1_cache'):\n",
    "    os.makedirs('fastf1_cache')\n",
    "\n",
    "fastf1.Cache.enable_cache('fastf1_cache')"
   ]
  },
  {
   "cell_type": "markdown",
   "id": "7b74c295",
   "metadata": {},
   "source": [
    "## Select Season and Get Race Schedule\n",
    "\n",
    "Define the seasons of interest and select the current season. Retrieve the event schedule for the selected season."
   ]
  },
  {
   "cell_type": "code",
   "execution_count": null,
   "id": "d87e847f",
   "metadata": {},
   "outputs": [],
   "source": [
    "seasons = [2019, 2020, 2021, 2022, 2023, 2024]\n",
    "curr_season = seasons[0]"
   ]
  },
  {
   "cell_type": "code",
   "execution_count": null,
   "id": "7da8099b",
   "metadata": {},
   "outputs": [],
   "source": [
    "races = fastf1.get_event_schedule(curr_season, include_testing=False)"
   ]
  },
  {
   "cell_type": "markdown",
   "id": "8bd69c67",
   "metadata": {},
   "source": [
    "## Download Race Results for Each Event\n",
    "\n",
    "Iterate through each race in the selected season, load the race session, and extract the results for each driver. Store all results in a list."
   ]
  },
  {
   "cell_type": "code",
   "execution_count": null,
   "id": "eb74d3e3",
   "metadata": {},
   "outputs": [],
   "source": [
    "races_df = pd.DataFrame(races[['EventName']]).set_index(races['RoundNumber'])\n",
    "\n",
    "all_results = []\n",
    "\n",
    "for rnd, row in races_df.iterrows():\n",
    "    race = row['EventName']\n",
    "\n",
    "    session = fastf1.get_session(curr_season, rnd, 'R')\n",
    "    session.load()\n",
    "    results = session.results\n",
    "    results_df = pd.DataFrame(results[['DriverNumber', 'Abbreviation', 'DriverId', 'TeamId', 'Position']]).reset_index(drop=True)\n",
    "    results_df['EventName'] = race\n",
    "    results_df['Round'] = rnd\n",
    "    results_df['Season'] = curr_season\n",
    "\n",
    "    all_results.append(results_df)\n",
    "\n",
    "final_results_df = pd.concat(all_results, ignore_index=True)"
   ]
  },
  {
   "cell_type": "markdown",
   "id": "5dec3320",
   "metadata": {},
   "source": [
    "## Save Results to CSV\n",
    "\n",
    "Save the combined race results for the selected season to a CSV file for future use."
   ]
  },
  {
   "cell_type": "code",
   "execution_count": null,
   "id": "54022da4",
   "metadata": {},
   "outputs": [],
   "source": [
    "final_results_df.to_csv(f'data/final_results_{curr_season}.csv', index=False)"
   ]
  }
 ],
 "metadata": {
  "kernelspec": {
   "display_name": ".venv",
   "language": "python",
   "name": "python3"
  },
  "language_info": {
   "codemirror_mode": {
    "name": "ipython",
    "version": 3
   },
   "file_extension": ".py",
   "mimetype": "text/x-python",
   "name": "python",
   "nbconvert_exporter": "python",
   "pygments_lexer": "ipython3",
   "version": "3.12.8"
  }
 },
 "nbformat": 4,
 "nbformat_minor": 5
}
