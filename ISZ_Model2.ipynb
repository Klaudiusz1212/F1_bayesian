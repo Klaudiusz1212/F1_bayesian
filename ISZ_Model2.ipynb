{
 "cells": [
  {
   "cell_type": "code",
   "execution_count": 3,
   "id": "initial_id",
   "metadata": {
    "jupyter": {
     "is_executing": true
    }
   },
   "outputs": [],
   "source": [
    "import numpy as np\n",
    "from cmdstanpy import CmdStanModel\n",
    "import seaborn as sns\n",
    "import matplotlib.pyplot as plt\n",
    "import pandas as pd"
   ]
  },
  {
   "cell_type": "markdown",
   "id": "f98ae64bc3821f1c",
   "metadata": {},
   "source": [
    "## Priors [0-4 pts]\n",
    "- Is it explained why particular priors for parameters were selected [1 pt]\n",
    "- Have prior predictive checks been done for parameters (are parameters simulated from priors make sense) [1 pt]\n",
    "- Have prior predictive checks been done for measurements (are measurements simulated from priors make sense) [1 pt]\n",
    "- How prior parameters were selected [1 pt]"
   ]
  },
  {
   "cell_type": "code",
   "execution_count": 4,
   "id": "1e089272285a4e02",
   "metadata": {
    "jupyter": {
     "is_executing": true
    }
   },
   "outputs": [
    {
     "name": "stderr",
     "output_type": "stream",
     "text": [
      "07:53:48 - cmdstanpy - INFO - compiling stan file /workspace/F1_bayesian/stan/model_2_ppc.stan to exe file /workspace/F1_bayesian/stan/model_2_ppc\n",
      "07:54:17 - cmdstanpy - INFO - compiled model executable: /workspace/F1_bayesian/stan/model_2_ppc\n"
     ]
    }
   ],
   "source": [
    "model_1_ppc = CmdStanModel(stan_file='stan/model_2_ppc.stan')"
   ]
  },
  {
   "cell_type": "code",
   "execution_count": 5,
   "id": "b56ad28d-ced4-4356-83b2-7859f0e4521a",
   "metadata": {},
   "outputs": [
    {
     "name": "stderr",
     "output_type": "stream",
     "text": [
      "07:54:17 - cmdstanpy - INFO - CmdStan start processing\n"
     ]
    },
    {
     "data": {
      "application/vnd.jupyter.widget-view+json": {
       "model_id": "a5dae568747c4a6f8e15d72a36c9b883",
       "version_major": 2,
       "version_minor": 0
      },
      "text/plain": [
       "chain 1 |          | 00:00 Status"
      ]
     },
     "metadata": {},
     "output_type": "display_data"
    },
    {
     "data": {
      "application/vnd.jupyter.widget-view+json": {
       "model_id": "fa2a6986260047308cfabea327dda90f",
       "version_major": 2,
       "version_minor": 0
      },
      "text/plain": [
       "chain 2 |          | 00:00 Status"
      ]
     },
     "metadata": {},
     "output_type": "display_data"
    },
    {
     "data": {
      "application/vnd.jupyter.widget-view+json": {
       "model_id": "e1d0dec077ea4b0995eb6f3281e78d88",
       "version_major": 2,
       "version_minor": 0
      },
      "text/plain": [
       "chain 3 |          | 00:00 Status"
      ]
     },
     "metadata": {},
     "output_type": "display_data"
    },
    {
     "data": {
      "application/vnd.jupyter.widget-view+json": {
       "model_id": "da4c0ff77ff8409a9bd18f877dcc1bda",
       "version_major": 2,
       "version_minor": 0
      },
      "text/plain": [
       "chain 4 |          | 00:00 Status"
      ]
     },
     "metadata": {},
     "output_type": "display_data"
    },
    {
     "name": "stdout",
     "output_type": "stream",
     "text": [
      "                                                                                                                                                                                                                                                                                                                                "
     ]
    },
    {
     "name": "stderr",
     "output_type": "stream",
     "text": [
      "07:54:17 - cmdstanpy - INFO - CmdStan done processing.\n"
     ]
    },
    {
     "name": "stdout",
     "output_type": "stream",
     "text": [
      "\n"
     ]
    },
    {
     "data": {
      "text/html": [
       "<div>\n",
       "<style scoped>\n",
       "    .dataframe tbody tr th:only-of-type {\n",
       "        vertical-align: middle;\n",
       "    }\n",
       "\n",
       "    .dataframe tbody tr th {\n",
       "        vertical-align: top;\n",
       "    }\n",
       "\n",
       "    .dataframe thead th {\n",
       "        text-align: right;\n",
       "    }\n",
       "</style>\n",
       "<table border=\"1\" class=\"dataframe\">\n",
       "  <thead>\n",
       "    <tr style=\"text-align: right;\">\n",
       "      <th></th>\n",
       "      <th>chain__</th>\n",
       "      <th>iter__</th>\n",
       "      <th>draw__</th>\n",
       "      <th>lp__</th>\n",
       "      <th>accept_stat__</th>\n",
       "      <th>engine</th>\n",
       "      <th>constructor</th>\n",
       "      <th>year_constructor</th>\n",
       "      <th>alpha_driver</th>\n",
       "      <th>theta</th>\n",
       "      <th>y_ppc</th>\n",
       "    </tr>\n",
       "  </thead>\n",
       "  <tbody>\n",
       "    <tr>\n",
       "      <th>0</th>\n",
       "      <td>1.0</td>\n",
       "      <td>1.0</td>\n",
       "      <td>1.0</td>\n",
       "      <td>0.0</td>\n",
       "      <td>0.0</td>\n",
       "      <td>1.021630</td>\n",
       "      <td>0.217896</td>\n",
       "      <td>0.518850</td>\n",
       "      <td>0.802796</td>\n",
       "      <td>0.438164</td>\n",
       "      <td>8.0</td>\n",
       "    </tr>\n",
       "    <tr>\n",
       "      <th>1</th>\n",
       "      <td>1.0</td>\n",
       "      <td>2.0</td>\n",
       "      <td>2.0</td>\n",
       "      <td>0.0</td>\n",
       "      <td>0.0</td>\n",
       "      <td>0.506450</td>\n",
       "      <td>-0.719667</td>\n",
       "      <td>0.858580</td>\n",
       "      <td>1.201730</td>\n",
       "      <td>0.086357</td>\n",
       "      <td>2.0</td>\n",
       "    </tr>\n",
       "    <tr>\n",
       "      <th>2</th>\n",
       "      <td>1.0</td>\n",
       "      <td>3.0</td>\n",
       "      <td>3.0</td>\n",
       "      <td>0.0</td>\n",
       "      <td>0.0</td>\n",
       "      <td>-0.017876</td>\n",
       "      <td>-0.141806</td>\n",
       "      <td>0.139802</td>\n",
       "      <td>1.782740</td>\n",
       "      <td>0.011243</td>\n",
       "      <td>0.0</td>\n",
       "    </tr>\n",
       "    <tr>\n",
       "      <th>3</th>\n",
       "      <td>1.0</td>\n",
       "      <td>4.0</td>\n",
       "      <td>4.0</td>\n",
       "      <td>0.0</td>\n",
       "      <td>0.0</td>\n",
       "      <td>-0.349485</td>\n",
       "      <td>-0.446207</td>\n",
       "      <td>1.347840</td>\n",
       "      <td>0.124769</td>\n",
       "      <td>0.559770</td>\n",
       "      <td>11.0</td>\n",
       "    </tr>\n",
       "    <tr>\n",
       "      <th>4</th>\n",
       "      <td>1.0</td>\n",
       "      <td>5.0</td>\n",
       "      <td>5.0</td>\n",
       "      <td>0.0</td>\n",
       "      <td>0.0</td>\n",
       "      <td>-0.203628</td>\n",
       "      <td>0.068063</td>\n",
       "      <td>-1.440530</td>\n",
       "      <td>0.325339</td>\n",
       "      <td>0.083981</td>\n",
       "      <td>1.0</td>\n",
       "    </tr>\n",
       "    <tr>\n",
       "      <th>...</th>\n",
       "      <td>...</td>\n",
       "      <td>...</td>\n",
       "      <td>...</td>\n",
       "      <td>...</td>\n",
       "      <td>...</td>\n",
       "      <td>...</td>\n",
       "      <td>...</td>\n",
       "      <td>...</td>\n",
       "      <td>...</td>\n",
       "      <td>...</td>\n",
       "      <td>...</td>\n",
       "    </tr>\n",
       "    <tr>\n",
       "      <th>3995</th>\n",
       "      <td>4.0</td>\n",
       "      <td>996.0</td>\n",
       "      <td>3996.0</td>\n",
       "      <td>0.0</td>\n",
       "      <td>0.0</td>\n",
       "      <td>-1.218360</td>\n",
       "      <td>0.663735</td>\n",
       "      <td>0.753395</td>\n",
       "      <td>0.258401</td>\n",
       "      <td>0.390020</td>\n",
       "      <td>6.0</td>\n",
       "    </tr>\n",
       "    <tr>\n",
       "      <th>3996</th>\n",
       "      <td>4.0</td>\n",
       "      <td>997.0</td>\n",
       "      <td>3997.0</td>\n",
       "      <td>0.0</td>\n",
       "      <td>0.0</td>\n",
       "      <td>-1.052820</td>\n",
       "      <td>1.210300</td>\n",
       "      <td>-0.248586</td>\n",
       "      <td>1.468330</td>\n",
       "      <td>0.022711</td>\n",
       "      <td>1.0</td>\n",
       "    </tr>\n",
       "    <tr>\n",
       "      <th>3997</th>\n",
       "      <td>4.0</td>\n",
       "      <td>998.0</td>\n",
       "      <td>3998.0</td>\n",
       "      <td>0.0</td>\n",
       "      <td>0.0</td>\n",
       "      <td>0.911691</td>\n",
       "      <td>-0.667599</td>\n",
       "      <td>1.158970</td>\n",
       "      <td>1.255010</td>\n",
       "      <td>0.150017</td>\n",
       "      <td>2.0</td>\n",
       "    </tr>\n",
       "    <tr>\n",
       "      <th>3998</th>\n",
       "      <td>4.0</td>\n",
       "      <td>999.0</td>\n",
       "      <td>3999.0</td>\n",
       "      <td>0.0</td>\n",
       "      <td>0.0</td>\n",
       "      <td>1.094630</td>\n",
       "      <td>0.301108</td>\n",
       "      <td>-1.020680</td>\n",
       "      <td>0.636097</td>\n",
       "      <td>0.228784</td>\n",
       "      <td>2.0</td>\n",
       "    </tr>\n",
       "    <tr>\n",
       "      <th>3999</th>\n",
       "      <td>4.0</td>\n",
       "      <td>1000.0</td>\n",
       "      <td>4000.0</td>\n",
       "      <td>0.0</td>\n",
       "      <td>0.0</td>\n",
       "      <td>-0.261344</td>\n",
       "      <td>-0.469620</td>\n",
       "      <td>-0.023770</td>\n",
       "      <td>0.325713</td>\n",
       "      <td>0.172357</td>\n",
       "      <td>4.0</td>\n",
       "    </tr>\n",
       "  </tbody>\n",
       "</table>\n",
       "<p>4000 rows × 11 columns</p>\n",
       "</div>"
      ],
      "text/plain": [
       "      chain__  iter__  draw__  lp__  accept_stat__    engine  constructor  \\\n",
       "0         1.0     1.0     1.0   0.0            0.0  1.021630     0.217896   \n",
       "1         1.0     2.0     2.0   0.0            0.0  0.506450    -0.719667   \n",
       "2         1.0     3.0     3.0   0.0            0.0 -0.017876    -0.141806   \n",
       "3         1.0     4.0     4.0   0.0            0.0 -0.349485    -0.446207   \n",
       "4         1.0     5.0     5.0   0.0            0.0 -0.203628     0.068063   \n",
       "...       ...     ...     ...   ...            ...       ...          ...   \n",
       "3995      4.0   996.0  3996.0   0.0            0.0 -1.218360     0.663735   \n",
       "3996      4.0   997.0  3997.0   0.0            0.0 -1.052820     1.210300   \n",
       "3997      4.0   998.0  3998.0   0.0            0.0  0.911691    -0.667599   \n",
       "3998      4.0   999.0  3999.0   0.0            0.0  1.094630     0.301108   \n",
       "3999      4.0  1000.0  4000.0   0.0            0.0 -0.261344    -0.469620   \n",
       "\n",
       "      year_constructor  alpha_driver     theta  y_ppc  \n",
       "0             0.518850      0.802796  0.438164    8.0  \n",
       "1             0.858580      1.201730  0.086357    2.0  \n",
       "2             0.139802      1.782740  0.011243    0.0  \n",
       "3             1.347840      0.124769  0.559770   11.0  \n",
       "4            -1.440530      0.325339  0.083981    1.0  \n",
       "...                ...           ...       ...    ...  \n",
       "3995          0.753395      0.258401  0.390020    6.0  \n",
       "3996         -0.248586      1.468330  0.022711    1.0  \n",
       "3997          1.158970      1.255010  0.150017    2.0  \n",
       "3998         -1.020680      0.636097  0.228784    2.0  \n",
       "3999         -0.023770      0.325713  0.172357    4.0  \n",
       "\n",
       "[4000 rows x 11 columns]"
      ]
     },
     "execution_count": 5,
     "metadata": {},
     "output_type": "execute_result"
    }
   ],
   "source": [
    "model_1_ppc_sim = model_1_ppc.sample(data={'sigma':0.8, 'drive_rating': 2.5}, iter_warmup=1, fixed_param=True, seed=10062022)\n",
    "df_ppc_sim = model_1_ppc_sim.draws_pd()\n",
    "df_ppc_sim"
   ]
  },
  {
   "cell_type": "markdown",
   "id": "759e8deb-db01-47de-b365-72f597488de0",
   "metadata": {},
   "source": [
    "## The Prior tests were prepared for the best, average, and weakest driver."
   ]
  },
  {
   "cell_type": "markdown",
   "id": "10548db4-4a68-406a-bac8-9c3364eb0c50",
   "metadata": {},
   "source": [
    "### The driver with the best results."
   ]
  },
  {
   "cell_type": "code",
   "execution_count": 6,
   "id": "56ef27fcf0fcb8f0",
   "metadata": {
    "ExecuteTime": {
     "end_time": "2025-05-25T13:37:25.525658Z",
     "start_time": "2025-05-25T13:37:14.430193Z"
    }
   },
   "outputs": [
    {
     "name": "stderr",
     "output_type": "stream",
     "text": [
      "07:54:18 - cmdstanpy - INFO - CmdStan start processing\n"
     ]
    },
    {
     "data": {
      "application/vnd.jupyter.widget-view+json": {
       "model_id": "05e88b06654644bf8c3639f255b4d719",
       "version_major": 2,
       "version_minor": 0
      },
      "text/plain": [
       "chain 1 |          | 00:00 Status"
      ]
     },
     "metadata": {},
     "output_type": "display_data"
    },
    {
     "data": {
      "application/vnd.jupyter.widget-view+json": {
       "model_id": "200342f212fd4839946df72f91efade1",
       "version_major": 2,
       "version_minor": 0
      },
      "text/plain": [
       "chain 2 |          | 00:00 Status"
      ]
     },
     "metadata": {},
     "output_type": "display_data"
    },
    {
     "data": {
      "application/vnd.jupyter.widget-view+json": {
       "model_id": "9b1799b7524e4d0d9c863a77390298c6",
       "version_major": 2,
       "version_minor": 0
      },
      "text/plain": [
       "chain 3 |          | 00:00 Status"
      ]
     },
     "metadata": {},
     "output_type": "display_data"
    },
    {
     "data": {
      "application/vnd.jupyter.widget-view+json": {
       "model_id": "10282a8cd39a4e57aaf5bf797ddcfc60",
       "version_major": 2,
       "version_minor": 0
      },
      "text/plain": [
       "chain 4 |          | 00:00 Status"
      ]
     },
     "metadata": {},
     "output_type": "display_data"
    },
    {
     "name": "stdout",
     "output_type": "stream",
     "text": [
      "                                                                                                                                                                                                                                                                                                                                "
     ]
    },
    {
     "name": "stderr",
     "output_type": "stream",
     "text": [
      "07:54:18 - cmdstanpy - INFO - CmdStan done processing.\n"
     ]
    },
    {
     "name": "stdout",
     "output_type": "stream",
     "text": [
      "\n"
     ]
    },
    {
     "ename": "ValueError",
     "evalue": "Unknown variable name: year\nAvailable variables are engine, constructor, year_constructor, alpha_driver, theta, y_ppc",
     "output_type": "error",
     "traceback": [
      "\u001b[31m---------------------------------------------------------------------------\u001b[39m",
      "\u001b[31mKeyError\u001b[39m                                  Traceback (most recent call last)",
      "\u001b[36mFile \u001b[39m\u001b[32m/usr/local/lib/python3.11/site-packages/cmdstanpy/stanfit/mcmc.py:767\u001b[39m, in \u001b[36mCmdStanMCMC.stan_variable\u001b[39m\u001b[34m(self, var, inc_warmup)\u001b[39m\n\u001b[32m    766\u001b[39m draws = \u001b[38;5;28mself\u001b[39m.draws(inc_warmup=inc_warmup, concat_chains=\u001b[38;5;28;01mTrue\u001b[39;00m)\n\u001b[32m--> \u001b[39m\u001b[32m767\u001b[39m out: np.ndarray = \u001b[38;5;28;43mself\u001b[39;49m\u001b[43m.\u001b[49m\u001b[43m_metadata\u001b[49m\u001b[43m.\u001b[49m\u001b[43mstan_vars\u001b[49m\u001b[43m[\u001b[49m\u001b[43mvar\u001b[49m\u001b[43m]\u001b[49m.extract_reshape(\n\u001b[32m    768\u001b[39m     draws\n\u001b[32m    769\u001b[39m )\n\u001b[32m    770\u001b[39m \u001b[38;5;28;01mreturn\u001b[39;00m out\n",
      "\u001b[31mKeyError\u001b[39m: 'year'",
      "\nDuring handling of the above exception, another exception occurred:\n",
      "\u001b[31mValueError\u001b[39m                                Traceback (most recent call last)",
      "\u001b[36mCell\u001b[39m\u001b[36m \u001b[39m\u001b[32mIn[6]\u001b[39m\u001b[32m, line 17\u001b[39m\n\u001b[32m     14\u001b[39m axes[s_i, \u001b[32m1\u001b[39m].set_yticks([])\n\u001b[32m     15\u001b[39m axes[s_i, \u001b[32m1\u001b[39m].set_title(\u001b[33mf\u001b[39m\u001b[33m'\u001b[39m\u001b[33malpha_driver Normal(0,\u001b[39m\u001b[38;5;132;01m{\u001b[39;00msigmas[s_i]\u001b[38;5;132;01m}\u001b[39;00m\u001b[33m)$\u001b[39m\u001b[33m'\u001b[39m)\n\u001b[32m---> \u001b[39m\u001b[32m17\u001b[39m axes[s_i, \u001b[32m2\u001b[39m].hist(\u001b[43mmodel_1_ppc_sim\u001b[49m\u001b[43m.\u001b[49m\u001b[43mstan_variable\u001b[49m\u001b[43m(\u001b[49m\u001b[33;43m'\u001b[39;49m\u001b[33;43myear\u001b[39;49m\u001b[33;43m'\u001b[39;49m\u001b[43m)\u001b[49m.flatten(), bins=\u001b[32m100\u001b[39m, color=\u001b[33m'\u001b[39m\u001b[33mcornflowerblue\u001b[39m\u001b[33m'\u001b[39m, edgecolor=\u001b[33m'\u001b[39m\u001b[33mroyalblue\u001b[39m\u001b[33m'\u001b[39m, density=\u001b[38;5;28;01mTrue\u001b[39;00m)\n\u001b[32m     18\u001b[39m axes[s_i, \u001b[32m2\u001b[39m].set_yticks([])\n\u001b[32m     19\u001b[39m axes[s_i, \u001b[32m2\u001b[39m].set_title(\u001b[33mf\u001b[39m\u001b[33m'\u001b[39m\u001b[33mbeta_avg_drive Normal(0,\u001b[39m\u001b[38;5;132;01m{\u001b[39;00msigmas[s_i]\u001b[38;5;132;01m}\u001b[39;00m\u001b[33m)\u001b[39m\u001b[33m'\u001b[39m)\n",
      "\u001b[36mFile \u001b[39m\u001b[32m/usr/local/lib/python3.11/site-packages/cmdstanpy/stanfit/mcmc.py:773\u001b[39m, in \u001b[36mCmdStanMCMC.stan_variable\u001b[39m\u001b[34m(self, var, inc_warmup)\u001b[39m\n\u001b[32m    770\u001b[39m     \u001b[38;5;28;01mreturn\u001b[39;00m out\n\u001b[32m    771\u001b[39m \u001b[38;5;28;01mexcept\u001b[39;00m \u001b[38;5;167;01mKeyError\u001b[39;00m:\n\u001b[32m    772\u001b[39m     \u001b[38;5;66;03m# pylint: disable=raise-missing-from\u001b[39;00m\n\u001b[32m--> \u001b[39m\u001b[32m773\u001b[39m     \u001b[38;5;28;01mraise\u001b[39;00m \u001b[38;5;167;01mValueError\u001b[39;00m(\n\u001b[32m    774\u001b[39m         \u001b[33mf\u001b[39m\u001b[33m'\u001b[39m\u001b[33mUnknown variable name: \u001b[39m\u001b[38;5;132;01m{\u001b[39;00mvar\u001b[38;5;132;01m}\u001b[39;00m\u001b[38;5;130;01m\\n\u001b[39;00m\u001b[33m'\u001b[39m\n\u001b[32m    775\u001b[39m         \u001b[33m'\u001b[39m\u001b[33mAvailable variables are \u001b[39m\u001b[33m'\u001b[39m\n\u001b[32m    776\u001b[39m         + \u001b[33m\"\u001b[39m\u001b[33m, \u001b[39m\u001b[33m\"\u001b[39m.join(\u001b[38;5;28mself\u001b[39m._metadata.stan_vars.keys())\n\u001b[32m    777\u001b[39m     )\n",
      "\u001b[31mValueError\u001b[39m: Unknown variable name: year\nAvailable variables are engine, constructor, year_constructor, alpha_driver, theta, y_ppc"
     ]
    },
    {
     "data": {
      "image/png": "[encoded data removed]",
      "text/plain": [
       "<Figure size 3200x1500 with 18 Axes>"
      ]
     },
     "metadata": {},
     "output_type": "display_data"
    }
   ],
   "source": [
    "fig, axes = plt.subplots(3, 6, figsize=(8*4, 15))\n",
    "\n",
    "sigmas = [0.8, 1.0, 1.2]\n",
    "\n",
    "for s_i in range(3):\n",
    "    sigma = {'sigma':sigmas[s_i], 'drive_rating': 2.5} # Standard scaler for driver rating ang avg_pos\n",
    "    model_1_ppc_sim = model_1_ppc.sample(data=sigma, iter_warmup=1, fixed_param=True, seed=10062022)\n",
    "    axes[s_i, 0].hist(model_1_ppc_sim.stan_variable('engine').flatten(), bins=100, color='cornflowerblue', edgecolor='royalblue', density=True)\n",
    "    axes[s_i, 0].set_yticks([])\n",
    "    axes[s_i, 0].set_title(f'engine Normal(0,{sigmas[s_i]})')\n",
    "\n",
    "\n",
    "    axes[s_i, 1].hist(model_1_ppc_sim.stan_variable('alpha_driver').flatten() * 2.5, bins=100, color='cornflowerblue', edgecolor='royalblue', density=True)\n",
    "    axes[s_i, 1].set_yticks([])\n",
    "    axes[s_i, 1].set_title(f'alpha_driver Normal(0,{sigmas[s_i]})$')\n",
    "\n",
    "    axes[s_i, 2].hist(model_1_ppc_sim.stan_variable('year').flatten(), bins=100, color='cornflowerblue', edgecolor='royalblue', density=True)\n",
    "    axes[s_i, 2].set_yticks([])\n",
    "    axes[s_i, 2].set_title(f'beta_avg_drive Normal(0,{sigmas[s_i]})')\n",
    "\n",
    "\n",
    "    axes[s_i, 3].hist(model_1_ppc_sim.stan_variable('constructor').flatten(), bins=100, color='cornflowerblue', edgecolor='royalblue', density=True)\n",
    "    axes[s_i, 3].set_yticks([])\n",
    "    axes[s_i, 3].set_title(f'constructor Normal(0,{sigmas[s_i]})$')\n",
    "\n",
    "\n",
    "    axes[s_i, 4].hist(model_1_ppc_sim.stan_variable('theta').flatten(), bins=100, color='cornflowerblue', edgecolor='royalblue', density=True)\n",
    "    axes[s_i, 4].set_yticks([])\n",
    "    axes[s_i, 4].set_title(f'theta = engine + constructor - alpha_driver\\n * drive_rating + year')\n",
    "\n",
    "    # pos_min = 1, pos_max = 20\n",
    "    n_bins = np.arange(22) - 0.5\n",
    "    axes[s_i, 5].hist(model_1_ppc_sim.stan_variable('y_ppc').flatten()+1, bins=n_bins, rwidth=1, color='cornflowerblue', edgecolor='royalblue', density=True)\n",
    "    axes[s_i, 5].set_xticks(range(22))\n",
    "    axes[s_i, 5].set_xlim([0, 21])\n",
    "    axes[s_i, 5].set_yticks([])\n",
    "    axes[s_i, 5].set_title('Position')\n",
    "\n",
    "axes[2, 0].set_xlabel('engine')\n",
    "axes[2, 1].set_xlabel('constructor')\n",
    "axes[2, 2].set_xlabel('alpha_driver')\n",
    "axes[2, 3].set_xlabel('beta_avg_drive')\n",
    "axes[2, 4].set_xlabel('theta')\n",
    "axes[2, 5].set_xlabel('Position')\n",
    "\n",
    "fig.tight_layout()\n",
    "plt.show()"
   ]
  },
  {
   "cell_type": "markdown",
   "id": "be3d30f7-8159-4c63-807b-3acbfa962f0d",
   "metadata": {},
   "source": [
    "### An average driver from the middle of the field."
   ]
  },
  {
   "cell_type": "code",
   "execution_count": null,
   "id": "64ab391b-62ca-45a4-809c-d57b8189f8c0",
   "metadata": {},
   "outputs": [],
   "source": [
    "fig, axes = plt.subplots(3, 6, figsize=(8*4, 15))\n",
    "\n",
    "sigmas = [0.8, 1.0, 1.2]\n",
    "\n",
    "for s_i in range(3):\n",
    "    sigma = {'sigma':sigmas[s_i], 'drive_rating': 0} # Standard scaler for driver rating ang avg_pos\n",
    "    model_1_ppc_sim = model_1_ppc.sample(data=sigma, iter_warmup=1, fixed_param=True, seed=10062022)\n",
    "    axes[s_i, 0].hist(model_1_ppc_sim.stan_variable('engine').flatten(), bins=100, color='cornflowerblue', edgecolor='royalblue', density=True)\n",
    "    axes[s_i, 0].set_yticks([])\n",
    "    axes[s_i, 0].set_title(f'engine Normal(0,{sigmas[s_i]})')\n",
    "\n",
    "\n",
    "    axes[s_i, 1].hist(model_1_ppc_sim.stan_variable('alpha_driver').flatten() * 2.5, bins=100, color='cornflowerblue', edgecolor='royalblue', density=True)\n",
    "    axes[s_i, 1].set_yticks([])\n",
    "    axes[s_i, 1].set_title(f'alpha_driver Normal(0,{sigmas[s_i]})$')\n",
    "\n",
    "    axes[s_i, 2].hist(model_1_ppc_sim.stan_variable('year').flatten() *0.1, bins=100, color='cornflowerblue', edgecolor='royalblue', density=True)\n",
    "    axes[s_i, 2].set_yticks([])\n",
    "    axes[s_i, 2].set_title(f'beta_avg_drive Normal(0,{sigmas[s_i]})')\n",
    "\n",
    "\n",
    "    axes[s_i, 3].hist(model_1_ppc_sim.stan_variable('constructor').flatten(), bins=100, color='cornflowerblue', edgecolor='royalblue', density=True)\n",
    "    axes[s_i, 3].set_yticks([])\n",
    "    axes[s_i, 3].set_title(f'constructor Normal(0,{sigmas[s_i]})$')\n",
    "\n",
    "\n",
    "    axes[s_i, 4].hist(model_1_ppc_sim.stan_variable('theta').flatten(), bins=100, color='cornflowerblue', edgecolor='royalblue', density=True)\n",
    "    axes[s_i, 4].set_yticks([])\n",
    "    axes[s_i, 4].set_title(f'theta = engine + constructor + alpha_driver\\n * drive_rating + year')\n",
    "\n",
    "    # pos_min = 1, pos_max = 20\n",
    "    n_bins = np.arange(22) - 0.5\n",
    "    axes[s_i, 5].hist(model_1_ppc_sim.stan_variable('y_ppc').flatten()+1, bins=n_bins, rwidth=1, color='cornflowerblue', edgecolor='royalblue', density=True)\n",
    "    axes[s_i, 5].set_xticks(range(22))\n",
    "    axes[s_i, 5].set_xlim([0, 21])\n",
    "    axes[s_i, 5].set_yticks([])\n",
    "    axes[s_i, 5].set_title('Position')\n",
    "\n",
    "axes[2, 0].set_xlabel('engine')\n",
    "axes[2, 1].set_xlabel('constructor')\n",
    "axes[2, 2].set_xlabel('alpha_driver')\n",
    "axes[2, 3].set_xlabel('beta_avg_drive')\n",
    "axes[2, 4].set_xlabel('theta')\n",
    "axes[2, 5].set_xlabel('Position')\n",
    "\n",
    "fig.tight_layout()\n",
    "plt.show()"
   ]
  },
  {
   "cell_type": "markdown",
   "id": "5d1460f9-7d1d-48b6-86b3-cdaca76e65c8",
   "metadata": {},
   "source": [
    "### The driver with the worst results."
   ]
  },
  {
   "cell_type": "code",
   "execution_count": null,
   "id": "e681212c-f46b-4b1e-bed7-bed546fe6393",
   "metadata": {},
   "outputs": [],
   "source": [
    "fig, axes = plt.subplots(3, 6, figsize=(8*4, 15))\n",
    "\n",
    "sigmas = [0.8, 1.0, 1.2]\n",
    "\n",
    "for s_i in range(3):\n",
    "    sigma = {'sigma':sigmas[s_i], 'drive_rating': -2.5} # Standard scaler for driver rating ang avg_pos\n",
    "    model_1_ppc_sim = model_1_ppc.sample(data=sigma, iter_warmup=1, fixed_param=True, seed=10062022)\n",
    "    axes[s_i, 0].hist(model_1_ppc_sim.stan_variable('engine').flatten(), bins=100, color='cornflowerblue', edgecolor='royalblue', density=True)\n",
    "    axes[s_i, 0].set_yticks([])\n",
    "    axes[s_i, 0].set_title(f'engine Normal(0,{sigmas[s_i]})')\n",
    "\n",
    "\n",
    "    axes[s_i, 1].hist(model_1_ppc_sim.stan_variable('alpha_driver').flatten(), bins=100, color='cornflowerblue', edgecolor='royalblue', density=True)\n",
    "    axes[s_i, 1].set_yticks([])\n",
    "    axes[s_i, 1].set_title(f'alpha_driver Normal(0,{sigmas[s_i]})$')\n",
    "\n",
    "    axes[s_i, 2].hist(model_1_ppc_sim.stan_variable('year').flatten(), bins=100, color='cornflowerblue', edgecolor='royalblue', density=True)\n",
    "    axes[s_i, 2].set_yticks([])\n",
    "    axes[s_i, 2].set_title(f'beta_avg_drive Normal(0,{sigmas[s_i]})')\n",
    "\n",
    "\n",
    "    axes[s_i, 3].hist(model_1_ppc_sim.stan_variable('constructor').flatten(), bins=100, color='cornflowerblue', edgecolor='royalblue', density=True)\n",
    "    axes[s_i, 3].set_yticks([])\n",
    "    axes[s_i, 3].set_title(f'constructor Normal(0,{sigmas[s_i]})$')\n",
    "\n",
    "\n",
    "    axes[s_i, 4].hist(model_1_ppc_sim.stan_variable('theta').flatten(), bins=100, color='cornflowerblue', edgecolor='royalblue', density=True)\n",
    "    axes[s_i, 4].set_yticks([])\n",
    "    axes[s_i, 4].set_title(f'theta = engine + constructor + alpha_driver\\n * drive_rating + year')\n",
    "\n",
    "    # pos_min = 1, pos_max = 20\n",
    "    n_bins = np.arange(22) - 0.5\n",
    "    axes[s_i, 5].hist(model_1_ppc_sim.stan_variable('y_ppc').flatten()+1, bins=n_bins, rwidth=1, color='cornflowerblue', edgecolor='royalblue', density=True)\n",
    "    axes[s_i, 5].set_xticks(range(22))\n",
    "    axes[s_i, 5].set_xlim([0, 21])\n",
    "    axes[s_i, 5].set_yticks([])\n",
    "    axes[s_i, 5].set_title('Position')\n",
    "\n",
    "axes[2, 0].set_xlabel('engine')\n",
    "axes[2, 1].set_xlabel('constructor')\n",
    "axes[2, 2].set_xlabel('alpha_driver')\n",
    "axes[2, 3].set_xlabel('beta_avg_drive')\n",
    "axes[2, 4].set_xlabel('theta')\n",
    "axes[2, 5].set_xlabel('Position')\n",
    "\n",
    "fig.tight_layout()\n",
    "plt.show()"
   ]
  },
  {
   "cell_type": "markdown",
   "id": "53b41132-4995-4982-a612-b827c9666b08",
   "metadata": {},
   "source": [
    "We choose sigma 1.0 for our model"
   ]
  },
  {
   "cell_type": "markdown",
   "id": "d4be14f30918f441",
   "metadata": {},
   "source": [
    "## Posterior analysis (model 2) [0-4 pts]\n",
    "- were there any issues with the sampling? if there were what kind of ideas for mitigation were used [1 pt]\n",
    "- are the samples from posterior predictive distribution analyzed [1 pt]\n",
    " are the data consistent with posterior predictive samples and is it sufficiently commented (if they are not then is the justification provided)\n",
    "have parameter marginal disrtibutions been analyzed (histograms of individual parametes plus summaries, are they diffuse or concentrated, what can we say about values) [1 pt]"
   ]
  },
  {
   "cell_type": "code",
   "execution_count": 7,
   "id": "4d78c3a2d7ae5264",
   "metadata": {
    "ExecuteTime": {
     "end_time": "2025-05-15T15:02:31.246646Z",
     "start_time": "2025-05-15T15:02:31.242522Z"
    }
   },
   "outputs": [
    {
     "name": "stderr",
     "output_type": "stream",
     "text": [
      "08:00:01 - cmdstanpy - INFO - compiling stan file /workspace/F1_bayesian/stan/model_2.stan to exe file /workspace/F1_bayesian/stan/model_2\n",
      "08:00:43 - cmdstanpy - INFO - compiled model executable: /workspace/F1_bayesian/stan/model_2\n"
     ]
    }
   ],
   "source": [
    "model_1 = CmdStanModel(stan_file='stan/model_2.stan')"
   ]
  },
  {
   "cell_type": "code",
   "execution_count": 10,
   "id": "b100fa33-f8ef-4fa4-ab11-0fc70c6378a2",
   "metadata": {},
   "outputs": [],
   "source": [
    "df = pd.read_csv('data/processed_data/data.csv')\n",
    "df = df.dropna()\n",
    "unique_drivers = df['DriverId'].unique()\n",
    "driver_id_map = {driver: idx + 1 for idx, driver in enumerate(unique_drivers)}\n",
    "df['DriverId'] = df['DriverId'].map(driver_id_map)\n",
    "drivers = df['DriverId'].values\n",
    "\n",
    "unique_team = df['TeamId'].unique()\n",
    "team_id_map = {team: idx + 1 for idx, team in enumerate(unique_team)}\n",
    "df['TeamId'] = df['TeamId'].map(team_id_map)\n",
    "teams = df['TeamId'].values\n",
    "\n",
    "unique_engine = df['Engine'].unique()\n",
    "engine_id_map = {engine: idx + 1 for idx, engine in enumerate(unique_engine)}\n",
    "df['Engine'] = df['Engine'].map(engine_id_map)\n",
    "engines = df['Engine'].values\n",
    "\n",
    "unique_season = df['Season'].unique()\n",
    "season_id_map = {season: idx + 1 for idx, season in enumerate(unique_season)}\n",
    "df['Season'] = df['Season'].map(season_id_map)\n",
    "seasons = df['Season'].values"
   ]
  },
  {
   "cell_type": "code",
   "execution_count": 11,
   "id": "65698577-0a33-4b8b-a83c-bf3db8e12ff1",
   "metadata": {},
   "outputs": [
    {
     "name": "stderr",
     "output_type": "stream",
     "text": [
      "/tmp/ipykernel_22/1339167195.py:8: DeprecationWarning: DataFrameGroupBy.apply operated on the grouping columns. This behavior is deprecated, and in a future version of pandas the grouping columns will be excluded from the operation. Either pass `include_groups=False` to exclude the groupings or explicitly select the grouping columns after groupby to silence this warning.\n",
      "  df = df.groupby('Season', group_keys=False, observed=True).apply(standardize_group)\n"
     ]
    }
   ],
   "source": [
    "def standardize_group(group):\n",
    "    mean = group['Rating'].mean()\n",
    "    std = group['Rating'].std()\n",
    "    group['Rating'] = (group['Rating'] - mean) / std\n",
    "    return group\n",
    "\n",
    "\n",
    "df = df.groupby('Season', group_keys=False, observed=True).apply(standardize_group)\n",
    "ratings = df[\"Rating\"].values\n",
    "df['Position'] = df['Position'].astype(int)"
   ]
  },
  {
   "cell_type": "code",
   "execution_count": 12,
   "id": "b8184922-acd5-44bc-afb0-3420ffdd427b",
   "metadata": {},
   "outputs": [
    {
     "data": {
      "text/html": [
       "<div>\n",
       "<style scoped>\n",
       "    .dataframe tbody tr th:only-of-type {\n",
       "        vertical-align: middle;\n",
       "    }\n",
       "\n",
       "    .dataframe tbody tr th {\n",
       "        vertical-align: top;\n",
       "    }\n",
       "\n",
       "    .dataframe thead th {\n",
       "        text-align: right;\n",
       "    }\n",
       "</style>\n",
       "<table border=\"1\" class=\"dataframe\">\n",
       "  <thead>\n",
       "    <tr style=\"text-align: right;\">\n",
       "      <th></th>\n",
       "      <th>DriverId</th>\n",
       "      <th>Rating</th>\n",
       "      <th>TeamId</th>\n",
       "      <th>Engine</th>\n",
       "      <th>Season</th>\n",
       "      <th>Position</th>\n",
       "    </tr>\n",
       "  </thead>\n",
       "  <tbody>\n",
       "    <tr>\n",
       "      <th>0</th>\n",
       "      <td>1</td>\n",
       "      <td>1.212000</td>\n",
       "      <td>1</td>\n",
       "      <td>1</td>\n",
       "      <td>1</td>\n",
       "      <td>1</td>\n",
       "    </tr>\n",
       "    <tr>\n",
       "      <th>1</th>\n",
       "      <td>2</td>\n",
       "      <td>0.623188</td>\n",
       "      <td>2</td>\n",
       "      <td>2</td>\n",
       "      <td>1</td>\n",
       "      <td>2</td>\n",
       "    </tr>\n",
       "    <tr>\n",
       "      <th>2</th>\n",
       "      <td>3</td>\n",
       "      <td>-0.407232</td>\n",
       "      <td>3</td>\n",
       "      <td>3</td>\n",
       "      <td>1</td>\n",
       "      <td>3</td>\n",
       "    </tr>\n",
       "    <tr>\n",
       "      <th>3</th>\n",
       "      <td>4</td>\n",
       "      <td>1.800812</td>\n",
       "      <td>1</td>\n",
       "      <td>1</td>\n",
       "      <td>1</td>\n",
       "      <td>4</td>\n",
       "    </tr>\n",
       "    <tr>\n",
       "      <th>4</th>\n",
       "      <td>5</td>\n",
       "      <td>0.034377</td>\n",
       "      <td>3</td>\n",
       "      <td>3</td>\n",
       "      <td>1</td>\n",
       "      <td>5</td>\n",
       "    </tr>\n",
       "  </tbody>\n",
       "</table>\n",
       "</div>"
      ],
      "text/plain": [
       "   DriverId    Rating  TeamId  Engine  Season  Position\n",
       "0         1  1.212000       1       1       1         1\n",
       "1         2  0.623188       2       2       1         2\n",
       "2         3 -0.407232       3       3       1         3\n",
       "3         4  1.800812       1       1       1         4\n",
       "4         5  0.034377       3       3       1         5"
      ]
     },
     "execution_count": 12,
     "metadata": {},
     "output_type": "execute_result"
    }
   ],
   "source": [
    "order_col = ['DriverId', 'Rating', 'TeamId', 'Engine', 'Season','Position']\n",
    "df = df[order_col]\n",
    "df.head()"
   ]
  },
  {
   "cell_type": "code",
   "execution_count": null,
   "id": "954be21d-738d-4c1b-95b0-130456a3a802",
   "metadata": {},
   "outputs": [
    {
     "name": "stderr",
     "output_type": "stream",
     "text": [
      "08:27:39 - cmdstanpy - INFO - CmdStan start processing\n"
     ]
    },
    {
     "data": {
      "application/vnd.jupyter.widget-view+json": {
       "model_id": "29d939431eb043c3a4d5991f6ed3eb40",
       "version_major": 2,
       "version_minor": 0
      },
      "text/plain": [
       "chain 1 |          | 00:00 Status"
      ]
     },
     "metadata": {},
     "output_type": "display_data"
    },
    {
     "data": {
      "application/vnd.jupyter.widget-view+json": {
       "model_id": "e446d0a9b38f4e18bca76925be564457",
       "version_major": 2,
       "version_minor": 0
      },
      "text/plain": [
       "chain 2 |          | 00:00 Status"
      ]
     },
     "metadata": {},
     "output_type": "display_data"
    },
    {
     "data": {
      "application/vnd.jupyter.widget-view+json": {
       "model_id": "7dbd9e5115d745d281ac379340a52852",
       "version_major": 2,
       "version_minor": 0
      },
      "text/plain": [
       "chain 3 |          | 00:00 Status"
      ]
     },
     "metadata": {},
     "output_type": "display_data"
    },
    {
     "data": {
      "application/vnd.jupyter.widget-view+json": {
       "model_id": "b71f51c538c646e1a7919144f1064d81",
       "version_major": 2,
       "version_minor": 0
      },
      "text/plain": [
       "chain 4 |          | 00:00 Status"
      ]
     },
     "metadata": {},
     "output_type": "display_data"
    },
    {
     "name": "stderr",
     "output_type": "stream",
     "text": [
      "08:39:59 - cmdstanpy - ERROR - Chain [1] error: terminated by signal 9 Unknown error -9\n"
     ]
    }
   ],
   "source": [
    "model_1_data = {'N': len(df),\n",
    "                'C': len(teams),\n",
    "                'E': len(engines),\n",
    "                'D': len(drivers),\n",
    "                'Y': len(seasons),\n",
    "                'driver_rating': ratings,\n",
    "                'engine': engines,\n",
    "                'constructor': teams,                \n",
    "                'driver': drivers,\n",
    "                'year': seasons,\n",
    "                'position': df['Position'] - 1} \n",
    "\n",
    "model_1_fit = model_1.sample(data=model_1_data, seed=25062025, parallel_chains=1,iter_sampling=500,iter_warmup=500)\n",
    "print(model_1_fit.diagnose())"
   ]
  },
  {
   "cell_type": "code",
   "execution_count": null,
   "id": "82558072-3e7f-43ca-8d21-3408247bc8ce",
   "metadata": {},
   "outputs": [],
   "source": [
    "# pos_min = 1, pos_max = 20\n",
    "n_bins = np.arange(22) - 0.5\n",
    "\n",
    "drivers_names = ['bottas']\n",
    "for d_i, d_name in enumerate(drivers_names):\n",
    "    results = df[df['DriverId'] == 1]\n",
    "    plt.hist((results['Position']+1).tolist(), bins=n_bins, rwidth=1, histtype='step', edgecolor='black', density=True, label='Observed')\n",
    "    results_idx = results.index\n",
    "    plt.hist(model_1_fit.stan_variable('y_hat').T[results_idx].flatten()+1, bins=n_bins, rwidth=1, color='cornflowerblue', edgecolor='royalblue', density=True, label='Simulated')\n",
    "    plt.xticks(range(22))\n",
    "    plt.xlim([0, 21])\n",
    "    plt.yticks([])\n",
    "    plt.title(d_name.upper() + ' finishing positions in years 2020-2024')\n",
    "    plt.legend()\n",
    "    plt.xlabel(r'position')\n",
    "\n",
    "fig.tight_layout()\n",
    "plt.show()"
   ]
  },
  {
   "cell_type": "markdown",
   "id": "77be606eb616f6ae",
   "metadata": {},
   "source": [
    "## Model comaprison [0-4 pts]\n",
    "- Have models been compared using information criteria [1 pt]\n",
    "- Have result for WAIC been discussed (is there a clear winner, or is there an overlap, were there any warnings) [1 pt]\n",
    "- Have result for PSIS-LOO been discussed (is there a clear winner, or is there an overlap, were there any warnings) [1 pt]\n",
    "- Whas the model comparison discussed? Do authors agree with information criteria? Why in your opinion one model better than another [1 pt]"
   ]
  }
 ],
 "metadata": {
  "kernelspec": {
   "display_name": "Python 3 (ipykernel)",
   "language": "python",
   "name": "python3"
  },
  "language_info": {
   "codemirror_mode": {
    "name": "ipython",
    "version": 3
   },
   "file_extension": ".py",
   "mimetype": "text/x-python",
   "name": "python",
   "nbconvert_exporter": "python",
   "pygments_lexer": "ipython3",
   "version": "3.11.11"
  }
 },
 "nbformat": 4,
 "nbformat_minor": 5
}
