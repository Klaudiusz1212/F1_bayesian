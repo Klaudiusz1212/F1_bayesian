{
 "cells": [
  {
   "cell_type": "code",
   "execution_count": null,
   "id": "initial_id",
   "metadata": {
    "jupyter": {
     "is_executing": true
    }
   },
   "outputs": [],
   "source": [
    "import numpy as np\n",
    "from cmdstanpy import CmdStanModel\n",
    "import seaborn as sns\n",
    "import matplotlib.pyplot as plt\n",
    "import pandas as pd"
   ]
  },
  {
   "cell_type": "markdown",
   "id": "f98ae64bc3821f1c",
   "metadata": {},
   "source": [
    "## Priors [0-4 pts]\n",
    "- Is it explained why particular priors for parameters were selected [1 pt]\n",
    "- Have prior predictive checks been done for parameters (are parameters simulated from priors make sense) [1 pt]\n",
    "- Have prior predictive checks been done for measurements (are measurements simulated from priors make sense) [1 pt]\n",
    "- How prior parameters were selected [1 pt]"
   ]
  },
  {
   "cell_type": "code",
   "execution_count": null,
   "id": "1e089272285a4e02",
   "metadata": {
    "jupyter": {
     "is_executing": true
    }
   },
   "outputs": [],
   "source": [
    "model_1_ppc = CmdStanModel(stan_file='stan/model_2_ppc.stan')"
   ]
  },
  {
   "cell_type": "code",
   "execution_count": null,
   "id": "b56ad28d-ced4-4356-83b2-7859f0e4521a",
   "metadata": {},
   "outputs": [],
   "source": [
    "model_1_ppc_sim = model_1_ppc.sample(data={'sigma':0.8, 'drive_rating': 2.5}, iter_warmup=1, fixed_param=True, seed=10062022)\n",
    "df_ppc_sim = model_1_ppc_sim.draws_pd()\n",
    "df_ppc_sim"
   ]
  },
  {
   "cell_type": "markdown",
   "id": "759e8deb-db01-47de-b365-72f597488de0",
   "metadata": {},
   "source": [
    "## The Prior tests were prepared for the best, average, and weakest driver."
   ]
  },
  {
   "cell_type": "markdown",
   "id": "10548db4-4a68-406a-bac8-9c3364eb0c50",
   "metadata": {},
   "source": [
    "### The driver with the best results."
   ]
  },
  {
   "cell_type": "code",
   "execution_count": null,
   "id": "56ef27fcf0fcb8f0",
   "metadata": {
    "ExecuteTime": {
     "end_time": "2025-05-25T13:37:25.525658Z",
     "start_time": "2025-05-25T13:37:14.430193Z"
    }
   },
   "outputs": [],
   "source": [
    "fig, axes = plt.subplots(3, 6, figsize=(8*4, 15))\n",
    "\n",
    "sigmas = [0.8, 1.0, 1.2]\n",
    "\n",
    "for s_i in range(3):\n",
    "    sigma = {'sigma':sigmas[s_i], 'drive_rating': 2.5} # Standard scaler for driver rating ang avg_pos\n",
    "    model_1_ppc_sim = model_1_ppc.sample(data=sigma, iter_warmup=1, fixed_param=True, seed=10062022)\n",
    "    axes[s_i, 0].hist(model_1_ppc_sim.stan_variable('engine').flatten(), bins=100, color='cornflowerblue', edgecolor='royalblue', density=True)\n",
    "    axes[s_i, 0].set_yticks([])\n",
    "    axes[s_i, 0].set_title(f'engine Normal(0,{sigmas[s_i]})')\n",
    "\n",
    "\n",
    "    axes[s_i, 1].hist(model_1_ppc_sim.stan_variable('alpha_driver').flatten() * 2.5, bins=100, color='cornflowerblue', edgecolor='royalblue', density=True)\n",
    "    axes[s_i, 1].set_yticks([])\n",
    "    axes[s_i, 1].set_title(f'alpha_driver Normal(0,{sigmas[s_i]})$')\n",
    "\n",
    "    axes[s_i, 2].hist(model_1_ppc_sim.stan_variable('year').flatten(), bins=100, color='cornflowerblue', edgecolor='royalblue', density=True)\n",
    "    axes[s_i, 2].set_yticks([])\n",
    "    axes[s_i, 2].set_title(f'beta_avg_drive Normal(0,{sigmas[s_i]})')\n",
    "\n",
    "\n",
    "    axes[s_i, 3].hist(model_1_ppc_sim.stan_variable('constructor').flatten(), bins=100, color='cornflowerblue', edgecolor='royalblue', density=True)\n",
    "    axes[s_i, 3].set_yticks([])\n",
    "    axes[s_i, 3].set_title(f'constructor Normal(0,{sigmas[s_i]})$')\n",
    "\n",
    "\n",
    "    axes[s_i, 4].hist(model_1_ppc_sim.stan_variable('theta').flatten(), bins=100, color='cornflowerblue', edgecolor='royalblue', density=True)\n",
    "    axes[s_i, 4].set_yticks([])\n",
    "    axes[s_i, 4].set_title(f'theta = engine + constructor - alpha_driver\\n * drive_rating + year')\n",
    "\n",
    "    # pos_min = 1, pos_max = 20\n",
    "    n_bins = np.arange(22) - 0.5\n",
    "    axes[s_i, 5].hist(model_1_ppc_sim.stan_variable('y_ppc').flatten()+1, bins=n_bins, rwidth=1, color='cornflowerblue', edgecolor='royalblue', density=True)\n",
    "    axes[s_i, 5].set_xticks(range(22))\n",
    "    axes[s_i, 5].set_xlim([0, 21])\n",
    "    axes[s_i, 5].set_yticks([])\n",
    "    axes[s_i, 5].set_title('Position')\n",
    "\n",
    "axes[2, 0].set_xlabel('engine')\n",
    "axes[2, 1].set_xlabel('constructor')\n",
    "axes[2, 2].set_xlabel('alpha_driver')\n",
    "axes[2, 3].set_xlabel('beta_avg_drive')\n",
    "axes[2, 4].set_xlabel('theta')\n",
    "axes[2, 5].set_xlabel('Position')\n",
    "\n",
    "fig.tight_layout()\n",
    "plt.show()"
   ]
  },
  {
   "cell_type": "markdown",
   "id": "be3d30f7-8159-4c63-807b-3acbfa962f0d",
   "metadata": {},
   "source": [
    "### An average driver from the middle of the field."
   ]
  },
  {
   "cell_type": "code",
   "execution_count": null,
   "id": "64ab391b-62ca-45a4-809c-d57b8189f8c0",
   "metadata": {},
   "outputs": [],
   "source": [
    "fig, axes = plt.subplots(3, 6, figsize=(8*4, 15))\n",
    "\n",
    "sigmas = [0.8, 1.0, 1.2]\n",
    "\n",
    "for s_i in range(3):\n",
    "    sigma = {'sigma':sigmas[s_i], 'drive_rating': 0} # Standard scaler for driver rating ang avg_pos\n",
    "    model_1_ppc_sim = model_1_ppc.sample(data=sigma, iter_warmup=1, fixed_param=True, seed=10062022)\n",
    "    axes[s_i, 0].hist(model_1_ppc_sim.stan_variable('engine').flatten(), bins=100, color='cornflowerblue', edgecolor='royalblue', density=True)\n",
    "    axes[s_i, 0].set_yticks([])\n",
    "    axes[s_i, 0].set_title(f'engine Normal(0,{sigmas[s_i]})')\n",
    "\n",
    "\n",
    "    axes[s_i, 1].hist(model_1_ppc_sim.stan_variable('alpha_driver').flatten() * 2.5, bins=100, color='cornflowerblue', edgecolor='royalblue', density=True)\n",
    "    axes[s_i, 1].set_yticks([])\n",
    "    axes[s_i, 1].set_title(f'alpha_driver Normal(0,{sigmas[s_i]})$')\n",
    "\n",
    "    axes[s_i, 2].hist(model_1_ppc_sim.stan_variable('year').flatten() *0.1, bins=100, color='cornflowerblue', edgecolor='royalblue', density=True)\n",
    "    axes[s_i, 2].set_yticks([])\n",
    "    axes[s_i, 2].set_title(f'beta_avg_drive Normal(0,{sigmas[s_i]})')\n",
    "\n",
    "\n",
    "    axes[s_i, 3].hist(model_1_ppc_sim.stan_variable('constructor').flatten(), bins=100, color='cornflowerblue', edgecolor='royalblue', density=True)\n",
    "    axes[s_i, 3].set_yticks([])\n",
    "    axes[s_i, 3].set_title(f'constructor Normal(0,{sigmas[s_i]})$')\n",
    "\n",
    "\n",
    "    axes[s_i, 4].hist(model_1_ppc_sim.stan_variable('theta').flatten(), bins=100, color='cornflowerblue', edgecolor='royalblue', density=True)\n",
    "    axes[s_i, 4].set_yticks([])\n",
    "    axes[s_i, 4].set_title(f'theta = engine + constructor + alpha_driver\\n * drive_rating + year')\n",
    "\n",
    "    # pos_min = 1, pos_max = 20\n",
    "    n_bins = np.arange(22) - 0.5\n",
    "    axes[s_i, 5].hist(model_1_ppc_sim.stan_variable('y_ppc').flatten()+1, bins=n_bins, rwidth=1, color='cornflowerblue', edgecolor='royalblue', density=True)\n",
    "    axes[s_i, 5].set_xticks(range(22))\n",
    "    axes[s_i, 5].set_xlim([0, 21])\n",
    "    axes[s_i, 5].set_yticks([])\n",
    "    axes[s_i, 5].set_title('Position')\n",
    "\n",
    "axes[2, 0].set_xlabel('engine')\n",
    "axes[2, 1].set_xlabel('constructor')\n",
    "axes[2, 2].set_xlabel('alpha_driver')\n",
    "axes[2, 3].set_xlabel('beta_avg_drive')\n",
    "axes[2, 4].set_xlabel('theta')\n",
    "axes[2, 5].set_xlabel('Position')\n",
    "\n",
    "fig.tight_layout()\n",
    "plt.show()"
   ]
  },
  {
   "cell_type": "markdown",
   "id": "5d1460f9-7d1d-48b6-86b3-cdaca76e65c8",
   "metadata": {},
   "source": [
    "### The driver with the worst results."
   ]
  },
  {
   "cell_type": "code",
   "execution_count": null,
   "id": "e681212c-f46b-4b1e-bed7-bed546fe6393",
   "metadata": {},
   "outputs": [],
   "source": [
    "fig, axes = plt.subplots(3, 6, figsize=(8*4, 15))\n",
    "\n",
    "sigmas = [0.8, 1.0, 1.2]\n",
    "\n",
    "for s_i in range(3):\n",
    "    sigma = {'sigma':sigmas[s_i], 'drive_rating': -2.5} # Standard scaler for driver rating ang avg_pos\n",
    "    model_1_ppc_sim = model_1_ppc.sample(data=sigma, iter_warmup=1, fixed_param=True, seed=10062022)\n",
    "    axes[s_i, 0].hist(model_1_ppc_sim.stan_variable('engine').flatten(), bins=100, color='cornflowerblue', edgecolor='royalblue', density=True)\n",
    "    axes[s_i, 0].set_yticks([])\n",
    "    axes[s_i, 0].set_title(f'engine Normal(0,{sigmas[s_i]})')\n",
    "\n",
    "\n",
    "    axes[s_i, 1].hist(model_1_ppc_sim.stan_variable('alpha_driver').flatten(), bins=100, color='cornflowerblue', edgecolor='royalblue', density=True)\n",
    "    axes[s_i, 1].set_yticks([])\n",
    "    axes[s_i, 1].set_title(f'alpha_driver Normal(0,{sigmas[s_i]})$')\n",
    "\n",
    "    axes[s_i, 2].hist(model_1_ppc_sim.stan_variable('year').flatten(), bins=100, color='cornflowerblue', edgecolor='royalblue', density=True)\n",
    "    axes[s_i, 2].set_yticks([])\n",
    "    axes[s_i, 2].set_title(f'beta_avg_drive Normal(0,{sigmas[s_i]})')\n",
    "\n",
    "\n",
    "    axes[s_i, 3].hist(model_1_ppc_sim.stan_variable('constructor').flatten(), bins=100, color='cornflowerblue', edgecolor='royalblue', density=True)\n",
    "    axes[s_i, 3].set_yticks([])\n",
    "    axes[s_i, 3].set_title(f'constructor Normal(0,{sigmas[s_i]})$')\n",
    "\n",
    "\n",
    "    axes[s_i, 4].hist(model_1_ppc_sim.stan_variable('theta').flatten(), bins=100, color='cornflowerblue', edgecolor='royalblue', density=True)\n",
    "    axes[s_i, 4].set_yticks([])\n",
    "    axes[s_i, 4].set_title(f'theta = engine + constructor + alpha_driver\\n * drive_rating + year')\n",
    "\n",
    "    # pos_min = 1, pos_max = 20\n",
    "    n_bins = np.arange(22) - 0.5\n",
    "    axes[s_i, 5].hist(model_1_ppc_sim.stan_variable('y_ppc').flatten()+1, bins=n_bins, rwidth=1, color='cornflowerblue', edgecolor='royalblue', density=True)\n",
    "    axes[s_i, 5].set_xticks(range(22))\n",
    "    axes[s_i, 5].set_xlim([0, 21])\n",
    "    axes[s_i, 5].set_yticks([])\n",
    "    axes[s_i, 5].set_title('Position')\n",
    "\n",
    "axes[2, 0].set_xlabel('engine')\n",
    "axes[2, 1].set_xlabel('constructor')\n",
    "axes[2, 2].set_xlabel('alpha_driver')\n",
    "axes[2, 3].set_xlabel('beta_avg_drive')\n",
    "axes[2, 4].set_xlabel('theta')\n",
    "axes[2, 5].set_xlabel('Position')\n",
    "\n",
    "fig.tight_layout()\n",
    "plt.show()"
   ]
  },
  {
   "cell_type": "markdown",
   "id": "53b41132-4995-4982-a612-b827c9666b08",
   "metadata": {},
   "source": [
    "We choose sigma 1.0 for our model"
   ]
  },
  {
   "cell_type": "markdown",
   "id": "d4be14f30918f441",
   "metadata": {},
   "source": [
    "## Posterior analysis (model 2) [0-4 pts]\n",
    "- were there any issues with the sampling? if there were what kind of ideas for mitigation were used [1 pt]\n",
    "- are the samples from posterior predictive distribution analyzed [1 pt]\n",
    " are the data consistent with posterior predictive samples and is it sufficiently commented (if they are not then is the justification provided)\n",
    "have parameter marginal disrtibutions been analyzed (histograms of individual parametes plus summaries, are they diffuse or concentrated, what can we say about values) [1 pt]"
   ]
  },
  {
   "cell_type": "code",
   "execution_count": null,
   "id": "4d78c3a2d7ae5264",
   "metadata": {
    "ExecuteTime": {
     "end_time": "2025-05-15T15:02:31.246646Z",
     "start_time": "2025-05-15T15:02:31.242522Z"
    }
   },
   "outputs": [],
   "source": [
    "model_1 = CmdStanModel(stan_file='stan/model_2.stan')"
   ]
  },
  {
   "cell_type": "code",
   "execution_count": null,
   "id": "b100fa33-f8ef-4fa4-ab11-0fc70c6378a2",
   "metadata": {},
   "outputs": [],
   "source": [
    "df = pd.read_csv('data/processed_data/data.csv')\n",
    "df = df.dropna()\n",
    "unique_drivers = df['DriverId'].unique()\n",
    "driver_id_map = {driver: idx + 1 for idx, driver in enumerate(unique_drivers)}\n",
    "df['DriverId'] = df['DriverId'].map(driver_id_map)\n",
    "drivers = df['DriverId'].values\n",
    "\n",
    "unique_team = df['TeamId'].unique()\n",
    "team_id_map = {team: idx + 1 for idx, team in enumerate(unique_team)}\n",
    "df['TeamId'] = df['TeamId'].map(team_id_map)\n",
    "teams = df['TeamId'].values\n",
    "\n",
    "unique_engine = df['Engine'].unique()\n",
    "engine_id_map = {engine: idx + 1 for idx, engine in enumerate(unique_engine)}\n",
    "df['Engine'] = df['Engine'].map(engine_id_map)\n",
    "engines = df['Engine'].values\n",
    "\n",
    "unique_season = df['Season'].unique()\n",
    "season_id_map = {season: idx + 1 for idx, season in enumerate(unique_season)}\n",
    "df['Season'] = df['Season'].map(season_id_map)\n",
    "seasons = df['Season'].values"
   ]
  },
  {
   "cell_type": "code",
   "execution_count": null,
   "id": "65698577-0a33-4b8b-a83c-bf3db8e12ff1",
   "metadata": {},
   "outputs": [],
   "source": [
    "def standardize_group(group):\n",
    "    mean = group['Rating'].mean()\n",
    "    std = group['Rating'].std()\n",
    "    group['Rating'] = (group['Rating'] - mean) / std\n",
    "    return group\n",
    "\n",
    "\n",
    "df = df.groupby('Season', group_keys=False, observed=True).apply(standardize_group)\n",
    "ratings = df[\"Rating\"].values\n",
    "df['Position'] = df['Position'].astype(int)"
   ]
  },
  {
   "cell_type": "code",
   "execution_count": null,
   "id": "b8184922-acd5-44bc-afb0-3420ffdd427b",
   "metadata": {},
   "outputs": [],
   "source": [
    "order_col = ['DriverId', 'Rating', 'TeamId', 'Engine', 'Season','Position']\n",
    "df = df[order_col]\n",
    "df.head()"
   ]
  },
  {
   "cell_type": "code",
   "execution_count": null,
   "id": "954be21d-738d-4c1b-95b0-130456a3a802",
   "metadata": {},
   "outputs": [],
   "source": [
    "model_1_data = {'N': len(df),\n",
    "                'C': len([*team_id_map.values()]),\n",
    "                'E': len([*engine_id_map.values()]),\n",
    "                'D': len([*driver_id_map.values()]),\n",
    "                'Y': len([*season_id_map.values()]),\n",
    "                'driver_rating': ratings,\n",
    "                'engine': engines,\n",
    "                'constructor': teams,                \n",
    "                'driver': drivers,\n",
    "                'year': seasons,\n",
    "                'position': df['Position'] - 1} \n",
    "\n",
    "model_1_fit = model_1.sample(data=model_1_data, seed=25062025,iter_warmup=1000)"
   ]
  },
  {
   "cell_type": "code",
   "execution_count": null,
   "id": "82558072-3e7f-43ca-8d21-3408247bc8ce",
   "metadata": {},
   "outputs": [],
   "source": [
    "# pos_min = 1, pos_max = 20\n",
    "n_bins = np.arange(22) - 0.5\n",
    "\n",
    "drivers_names = ['bottas']\n",
    "for d_i, d_name in enumerate(drivers_names):\n",
    "    results = df[df['DriverId'] == 1]\n",
    "    plt.hist((results['Position']+1).tolist(), bins=n_bins, rwidth=1, histtype='step', edgecolor='black', density=True, label='Observed')\n",
    "    results_idx = results.index\n",
    "    plt.hist(model_1_fit.stan_variable('y_hat').T[results_idx].flatten()+1, bins=n_bins, rwidth=1, color='cornflowerblue', edgecolor='royalblue', density=True, label='Simulated')\n",
    "    plt.xticks(range(22))\n",
    "    plt.xlim([0, 21])\n",
    "    plt.yticks([])\n",
    "    plt.title(d_name.upper() + ' finishing positions in years 2020-2024')\n",
    "    plt.legend()\n",
    "    plt.xlabel(r'position')\n",
    "\n",
    "fig.tight_layout()\n",
    "plt.show()"
   ]
  },
  {
   "cell_type": "markdown",
   "id": "77be606eb616f6ae",
   "metadata": {},
   "source": [
    "## Model comaprison [0-4 pts]\n",
    "- Have models been compared using information criteria [1 pt]\n",
    "- Have result for WAIC been discussed (is there a clear winner, or is there an overlap, were there any warnings) [1 pt]\n",
    "- Have result for PSIS-LOO been discussed (is there a clear winner, or is there an overlap, were there any warnings) [1 pt]\n",
    "- Whas the model comparison discussed? Do authors agree with information criteria? Why in your opinion one model better than another [1 pt]"
   ]
  }
 ],
 "metadata": {
  "kernelspec": {
   "display_name": "Python 3 (ipykernel)",
   "language": "python",
   "name": "python3"
  },
  "language_info": {
   "codemirror_mode": {
    "name": "ipython",
    "version": 3
   },
   "file_extension": ".py",
   "mimetype": "text/x-python",
   "name": "python",
   "nbconvert_exporter": "python",
   "pygments_lexer": "ipython3",
   "version": "3.11.11"
  }
 },
 "nbformat": 4,
 "nbformat_minor": 5
}
