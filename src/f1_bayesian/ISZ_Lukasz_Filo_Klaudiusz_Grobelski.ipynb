{
 "cells": [
  {
   "cell_type": "markdown",
   "id": "3ccdc7fd6eb57534",
   "metadata": {},
   "source": [
    "# Formula One race results analysis\n",
    "\n",
    "Łukasz Filo, Klaudiusz Grobelski"
   ]
  },
  {
   "cell_type": "markdown",
   "id": "77bf3371f79e509c",
   "metadata": {},
   "source": [
    "## Problem formulation [0-5 pts]:\n",
    "\n",
    "- is the problem clearly stated [1 pt]\n",
    "- what is the point of creating model, are potential use cases defined [1 pt]\n",
    "- where do data comes from, what does it containt [1 pt]\n",
    "- DAG has been drawn [1 pt]\n",
    "- confoundings (pipe, fork, collider) were described [1 pt]"
   ]
  },
  {
   "cell_type": "markdown",
   "id": "5c0d6ae3b36a3cdf",
   "metadata": {},
   "source": [
    "In this notebook, we will develop a Bayesian multilevel binomial regression model to predict driver performance across recent Formula 1 seasons. Specifically, we will use data from the 2019–2024 seasons. The input data includes information about drivers, constructors, and engine suppliers used by each team. The primary objective of this analysis is to understand and predict how various factors—such as driver skill, team changes, and engine suppliers—affect driver performance over time. This model could assist teams in making strategic decisions, such as evaluating whether changes in drivers or engine suppliers might enhance performance. It may also be valuable to fans and analysts seeking to assess the relative impact of technical and human factors on race results."
   ]
  },
  {
   "cell_type": "markdown",
   "id": "d8ccc5f1",
   "metadata": {},
   "source": [
    "We use historical race data sourced from FastF1, which includes finishing positions, lap times, and team-driver pairings for each race. Driver skill ratings are obtained from the EA Sports F1 game, while engine usage data (i.e., which power unit each constructor used in a given season) is collected from Wikipedia, covering the 2019–2024 period."
   ]
  },
  {
   "cell_type": "markdown",
   "id": "cd831891d73c306a",
   "metadata": {},
   "source": [
    "To gain a clearer understanding of the relationships between variables and to identify potential sources of bias, we will construct a Directed Acyclic Graph (DAG). The DAG will include nodes such as Driver Skill, Team, Engine, and Performance, and will help visualize dependencies and causal paths within the data."
   ]
  },
  {
   "cell_type": "markdown",
   "id": "71e84080",
   "metadata": {},
   "source": [
    "![model_1_dag](DAG/model1_DAG.png)"
   ]
  },
  {
   "cell_type": "markdown",
   "id": "d7e04ac7",
   "metadata": {},
   "source": [
    "![model_2_dag](DAG/model2_DAG.png)"
   ]
  },
  {
   "cell_type": "markdown",
   "id": "49162b1bf0b775e8",
   "metadata": {},
   "source": [
    "DAGs illustrate the main types of confounding structures:\n",
    "\n",
    " - Forks: Present in both models where multiple variables (e.g., `α`, `constructor`, `β`, `engine`) influence the same downstream node (the linear model).\n",
    "\n",
    "- Pipes: Clear in the chain `model` → `θ` → `y`, representing a direct causal path."
   ]
  },
  {
   "cell_type": "markdown",
   "id": "904a52c401ca73b3",
   "metadata": {},
   "source": [
    "## Data preprocessing [0-2 pts]:\n",
    "- is preprocessing step clearly described [1 pt]\n",
    "- reasoning and types of actions taken on the dataset have been described [1 pt]"
   ]
  },
  {
   "cell_type": "code",
   "execution_count": null,
   "id": "811aaeb56d621a8f",
   "metadata": {},
   "outputs": [],
   "source": []
  },
  {
   "cell_type": "markdown",
   "id": "29694a230c753ff3",
   "metadata": {},
   "source": [
    "## Model [0-4 pts]\n",
    "- are two different models specified [1 pt]\n",
    "- are difference between two models explained [1 pt]\n",
    "- is the difference in the models justified (e.g. does adding aditional parameter makes sense? ) [1 pt]\n",
    "- are models sufficiently described (what are formulas, what are parameters, what data are required ) [1 pt]"
   ]
  },
  {
   "cell_type": "code",
   "execution_count": null,
   "id": "69dc8d15d6ae7cea",
   "metadata": {},
   "outputs": [],
   "source": []
  },
  {
   "cell_type": "markdown",
   "id": "e205422cd919ffdf",
   "metadata": {},
   "source": [
    "## Priors [0-4 pts]\n",
    "- Is it explained why particular priors for parameters were selected [1 pt]\n",
    "- Have prior predictive checks been done for parameters (are parameters simulated from priors make sense) [1 pt]\n",
    "- Have prior predictive checks been done for measurements (are measurements simulated from priors make sense) [1 pt]\n",
    "- How prior parameters were selected [1 pt]"
   ]
  },
  {
   "cell_type": "code",
   "execution_count": null,
   "id": "d3bff8274ac67d80",
   "metadata": {},
   "outputs": [],
   "source": []
  },
  {
   "cell_type": "markdown",
   "id": "e57c00465f2c09d6",
   "metadata": {},
   "source": [
    "## Posterior analysis (model 1) [0-4 pts]\n",
    "- were there any issues with the sampling? if there were what kind of ideas for mitigation were used [1 pt]\n",
    "- are the samples from posterior predictive distribution analyzed [1 pt]\n",
    "- are the data consistent with posterior predictive samples and is it sufficiently commented (if they are not then is the justification provided)\n",
    "have parameter marginal disrtibutions been analyzed (histograms of individual parametes plus summaries, are they diffuse or concentrated, what can we say about values) [1 pt]"
   ]
  },
  {
   "cell_type": "code",
   "execution_count": null,
   "id": "9b7eeb71ba70340e",
   "metadata": {},
   "outputs": [],
   "source": []
  },
  {
   "cell_type": "markdown",
   "id": "1a7d426afce40af",
   "metadata": {},
   "source": [
    "## Posterior analysis (model 2) [0-4 pts]\n",
    "- were there any issues with the sampling? if there were what kind of ideas for mitigation were used [1 pt]\n",
    "- are the samples from posterior predictive distribution analyzed [1 pt]\n",
    " are the data consistent with posterior predictive samples and is it sufficiently commented (if they are not then is the justification provided)\n",
    "have parameter marginal disrtibutions been analyzed (histograms of individual parametes plus summaries, are they diffuse or concentrated, what can we say about values) [1 pt]"
   ]
  },
  {
   "cell_type": "code",
   "execution_count": null,
   "id": "ff15509bf581311a",
   "metadata": {},
   "outputs": [],
   "source": []
  },
  {
   "cell_type": "markdown",
   "id": "2fc33c8583c6f282",
   "metadata": {},
   "source": [
    "## Model comaprison [0-4 pts]\n",
    "- Have models been compared using information criteria [1 pt]\n",
    "- Have result for WAIC been discussed (is there a clear winner, or is there an overlap, were there any warnings) [1 pt]\n",
    "- Have result for PSIS-LOO been discussed (is there a clear winner, or is there an overlap, were there any warnings) [1 pt]\n",
    "- Whas the model comparison discussed? Do authors agree with information criteria? Why in your opinion one model better than another [1 pt]"
   ]
  },
  {
   "cell_type": "code",
   "execution_count": null,
   "id": "79f0fd7a514f237b",
   "metadata": {},
   "outputs": [],
   "source": []
  }
 ],
 "metadata": {
  "kernelspec": {
   "display_name": ".venv",
   "language": "python",
   "name": "python3"
  },
  "language_info": {
   "codemirror_mode": {
    "name": "ipython",
    "version": 3
   },
   "file_extension": ".py",
   "mimetype": "text/x-python",
   "name": "python",
   "nbconvert_exporter": "python",
   "pygments_lexer": "ipython3",
   "version": "3.12.9"
  }
 },
 "nbformat": 4,
 "nbformat_minor": 5
}
