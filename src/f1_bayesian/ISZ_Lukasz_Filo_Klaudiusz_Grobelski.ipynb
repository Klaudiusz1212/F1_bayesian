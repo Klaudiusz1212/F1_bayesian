{
 "cells": [
  {
   "metadata": {},
   "cell_type": "markdown",
   "source": [
    "# Formula One race results analysis\n",
    "\n",
    "Łukasz Filo, Klaudiusz Grobelski"
   ],
   "id": "3ccdc7fd6eb57534"
  },
  {
   "metadata": {},
   "cell_type": "markdown",
   "source": [
    "## Problem formulation [0-5 pts]:\n",
    "\n",
    "- is the problem clearly stated [1 pt]\n",
    "- what is the point of creating model, are potential use cases defined [1 pt]\n",
    "- where do data comes from, what does it containt [1 pt]\n",
    "- DAG has been drawn [1 pt]\n",
    "- confoundings (pipe, fork, collider) were described [1 pt]"
   ],
   "id": "14856fa1f9f5c47d"
  },
  {
   "metadata": {},
   "cell_type": "markdown",
   "source": "In this notebook, we will attempt to create a Bayesian multilevel binomial regression model to predict driver performance over the past seasons. We will use data from the 2019–2024 seasons. Our input data will include information about the drivers, constructors, and the engine used by each team. The goal of this analysis is to understand and predict how various factors, such as driver skills, team changes, and engine suppliers, influence driver performance over multiple seasons. This model could help teams make strategic decisions, such as whether changing a driver or engine supplier might improve performance. It could also be useful for fans and analysts to assess the impact of technical and human factors on results.",
   "id": "4cc556a22bfbacc4"
  },
  {
   "metadata": {},
   "cell_type": "markdown",
   "source": "We use historical race data from FastF1, which includes finishing positions, lap times, and team-driver pairings for each race. Driver skill ratings are sourced from the EA Sports F1 game, providing a standardized performance measure. Engine usage data for each team per season is collected from Wikipedia, summarizing which power unit each constructor used from 2019 to 2024.",
   "id": "8a922e42768c953a"
  },
  {
   "metadata": {},
   "cell_type": "markdown",
   "source": [
    "To better understand the relationships between variables and potential sources of bias, we will construct a Directed Acyclic Graph (DAG). This DAG will include nodes such as Driver Skill, Team, Engine, and Performance, and help visualize dependencies and causal paths.\n",
    "TODO"
   ],
   "id": "2a2a7407a5876da2"
  },
  {
   "metadata": {},
   "cell_type": "markdown",
   "source": "Furthermore, we will discuss confounding structures such as forks (e.g., driver skill and engine both affecting performance).",
   "id": "3522d3a50593a663"
  },
  {
   "metadata": {},
   "cell_type": "code",
   "outputs": [],
   "execution_count": null,
   "source": "",
   "id": "363157d77e61eab2"
  },
  {
   "metadata": {},
   "cell_type": "markdown",
   "source": [
    "## Data preprocessing [0-2 pts]:\n",
    "- is preprocessing step clearly described [1 pt]\n",
    "- reasoning and types of actions taken on the dataset have been described [1 pt]"
   ],
   "id": "904a52c401ca73b3"
  },
  {
   "metadata": {},
   "cell_type": "code",
   "outputs": [],
   "execution_count": null,
   "source": "",
   "id": "811aaeb56d621a8f"
  },
  {
   "metadata": {},
   "cell_type": "markdown",
   "source": [
    "## Model [0-4 pts]\n",
    "- are two different models specified [1 pt]\n",
    "- are difference between two models explained [1 pt]\n",
    "- is the difference in the models justified (e.g. does adding aditional parameter makes sense? ) [1 pt]\n",
    "- are models sufficiently described (what are formulas, what are parameters, what data are required ) [1 pt]"
   ],
   "id": "29694a230c753ff3"
  },
  {
   "metadata": {},
   "cell_type": "code",
   "outputs": [],
   "execution_count": null,
   "source": "",
   "id": "69dc8d15d6ae7cea"
  },
  {
   "metadata": {},
   "cell_type": "markdown",
   "source": [
    "## Priors [0-4 pts]\n",
    "- Is it explained why particular priors for parameters were selected [1 pt]\n",
    "- Have prior predictive checks been done for parameters (are parameters simulated from priors make sense) [1 pt]\n",
    "- Have prior predictive checks been done for measurements (are measurements simulated from priors make sense) [1 pt]\n",
    "- How prior parameters were selected [1 pt]"
   ],
   "id": "e205422cd919ffdf"
  },
  {
   "metadata": {},
   "cell_type": "code",
   "outputs": [],
   "execution_count": null,
   "source": "",
   "id": "d3bff8274ac67d80"
  },
  {
   "metadata": {},
   "cell_type": "markdown",
   "source": [
    "## Posterior analysis (model 1) [0-4 pts]\n",
    "- were there any issues with the sampling? if there were what kind of ideas for mitigation were used [1 pt]\n",
    "- are the samples from posterior predictive distribution analyzed [1 pt]\n",
    "- are the data consistent with posterior predictive samples and is it sufficiently commented (if they are not then is the justification provided)\n",
    "have parameter marginal disrtibutions been analyzed (histograms of individual parametes plus summaries, are they diffuse or concentrated, what can we say about values) [1 pt]"
   ],
   "id": "e57c00465f2c09d6"
  },
  {
   "metadata": {},
   "cell_type": "code",
   "outputs": [],
   "execution_count": null,
   "source": "",
   "id": "9b7eeb71ba70340e"
  },
  {
   "metadata": {},
   "cell_type": "markdown",
   "source": [
    "## Posterior analysis (model 2) [0-4 pts]\n",
    "- were there any issues with the sampling? if there were what kind of ideas for mitigation were used [1 pt]\n",
    "- are the samples from posterior predictive distribution analyzed [1 pt]\n",
    " are the data consistent with posterior predictive samples and is it sufficiently commented (if they are not then is the justification provided)\n",
    "have parameter marginal disrtibutions been analyzed (histograms of individual parametes plus summaries, are they diffuse or concentrated, what can we say about values) [1 pt]"
   ],
   "id": "1a7d426afce40af"
  },
  {
   "metadata": {},
   "cell_type": "code",
   "outputs": [],
   "execution_count": null,
   "source": "",
   "id": "ff15509bf581311a"
  },
  {
   "metadata": {},
   "cell_type": "markdown",
   "source": [
    "## Model comaprison [0-4 pts]\n",
    "- Have models been compared using information criteria [1 pt]\n",
    "- Have result for WAIC been discussed (is there a clear winner, or is there an overlap, were there any warnings) [1 pt]\n",
    "- Have result for PSIS-LOO been discussed (is there a clear winner, or is there an overlap, were there any warnings) [1 pt]\n",
    "- Whas the model comparison discussed? Do authors agree with information criteria? Why in your opinion one model better than another [1 pt]"
   ],
   "id": "2fc33c8583c6f282"
  },
  {
   "metadata": {},
   "cell_type": "code",
   "outputs": [],
   "execution_count": null,
   "source": "",
   "id": "79f0fd7a514f237b"
  }
 ],
 "metadata": {
  "kernelspec": {
   "display_name": "Python 3",
   "language": "python",
   "name": "python3"
  },
  "language_info": {
   "codemirror_mode": {
    "name": "ipython",
    "version": 2
   },
   "file_extension": ".py",
   "mimetype": "text/x-python",
   "name": "python",
   "nbconvert_exporter": "python",
   "pygments_lexer": "ipython2",
   "version": "2.7.6"
  }
 },
 "nbformat": 4,
 "nbformat_minor": 5
}
