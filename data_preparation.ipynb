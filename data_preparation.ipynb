{
 "cells": [
  {
   "cell_type": "code",
   "execution_count": null,
   "id": "59112428",
   "metadata": {},
   "outputs": [],
   "source": [
    "import fastf1\n",
    "import pandas as pd\n",
    "import matplotlib.pyplot as plt\n",
    "import numpy as np\n",
    "import os"
   ]
  },
  {
   "cell_type": "code",
   "execution_count": null,
   "id": "6d5503bd",
   "metadata": {},
   "outputs": [],
   "source": [
    "if not os.path.exists('fastf1_cache'):\n",
    "    os.makedirs('fastf1_cache')\n",
    "\n",
    "fastf1.Cache.enable_cache('fastf1_cache')"
   ]
  },
  {
   "cell_type": "code",
   "execution_count": null,
   "id": "d87e847f",
   "metadata": {},
   "outputs": [],
   "source": [
    "seasons = [2019, 2020, 2021, 2022, 2023, 2024]\n",
    "curr_season = seasons[0]"
   ]
  },
  {
   "cell_type": "code",
   "execution_count": null,
   "id": "7da8099b",
   "metadata": {},
   "outputs": [],
   "source": [
    "races = fastf1.get_event_schedule(curr_season, include_testing=False)"
   ]
  },
  {
   "cell_type": "code",
   "execution_count": null,
   "id": "eb74d3e3",
   "metadata": {},
   "outputs": [],
   "source": [
    "races_df = pd.DataFrame(races[['EventName']]).set_index(races['RoundNumber'])\n",
    "\n",
    "all_results = []\n",
    "\n",
    "for rnd, row in races_df.iterrows():\n",
    "    race = row['EventName']\n",
    "\n",
    "    session = fastf1.get_session(curr_season, rnd, 'R')\n",
    "    session.load()\n",
    "    results = session.results\n",
    "    results_df = pd.DataFrame(results[['DriverNumber', 'Abbreviation', 'DriverId', 'TeamId', 'Position']]).reset_index(drop=True)\n",
    "    results_df['EventName'] = race\n",
    "    results_df['Round'] = rnd\n",
    "    results_df['Season'] = curr_season\n",
    "\n",
    "    all_results.append(results_df)\n",
    "\n",
    "final_results_df = pd.concat(all_results, ignore_index=True)"
   ]
  },
  {
   "cell_type": "code",
   "execution_count": null,
   "id": "54022da4",
   "metadata": {},
   "outputs": [],
   "source": [
    "final_results_df.to_csv(f'data/final_results_{curr_season}.csv', index=False)"
   ]
  }
 ],
 "metadata": {
  "kernelspec": {
   "display_name": ".venv",
   "language": "python",
   "name": "python3"
  },
  "language_info": {
   "codemirror_mode": {
    "name": "ipython",
    "version": 3
   },
   "file_extension": ".py",
   "mimetype": "text/x-python",
   "name": "python",
   "nbconvert_exporter": "python",
   "pygments_lexer": "ipython3",
   "version": "3.12.8"
  }
 },
 "nbformat": 4,
 "nbformat_minor": 5
}
