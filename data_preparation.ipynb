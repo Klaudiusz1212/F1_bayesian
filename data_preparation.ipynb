{
 "cells": [
  {
   "cell_type": "code",
   "execution_count": null,
   "id": "59112428",
   "metadata": {},
   "outputs": [],
   "source": [
    "import fastf1\n",
    "import pandas as pd\n",
    "import matplotlib.pyplot as plt\n",
    "import numpy as np"
   ]
  },
  {
   "cell_type": "code",
   "execution_count": null,
   "id": "d87e847f",
   "metadata": {},
   "outputs": [],
   "source": [
    "seasons = [2019, 2020, 2021, 2022, 2023, 2024]"
   ]
  },
  {
   "cell_type": "code",
   "execution_count": null,
   "id": "eb74d3e3",
   "metadata": {},
   "outputs": [],
   "source": [
    "races = fastf1.get_event_schedule(2024)\n",
    "races_df = pd.DataFrame(races[['EventName']]).set_index(races['RoundNumber'])\n",
    "races_df.drop(races_df[races_df['EventName'].str.contains('Testing')].index, inplace=True)\n",
    "\n",
    "all_results = []\n",
    "\n",
    "for rnd, row in races_df.iterrows():\n",
    "    race = row['EventName']\n",
    "\n",
    "    session = fastf1.get_session(2024, rnd, 'R')\n",
    "    session.load()\n",
    "    results = session.results\n",
    "    results_df = pd.DataFrame(results[['DriverNumber', 'DriverId', 'TeamId', 'Position']]).reset_index(drop=True)\n",
    "    results_df['Season'] = 2024\n",
    "    results_df['Round'] = rnd\n",
    "\n",
    "    all_results.append(results_df)\n",
    "\n",
    "final_results_df = pd.concat(all_results, ignore_index=True)"
   ]
  },
  {
   "cell_type": "code",
   "execution_count": null,
   "id": "87af7632",
   "metadata": {},
   "outputs": [],
   "source": [
    "for season in seasons:\n",
    "\n",
    "    races = fastf1.get_event_schedule(season)\n",
    "\n",
    "    races_df = pd.DataFrame(races[['EventName']]).set_index(races['RoundNumber'])\n",
    "    races_df.drop(races_df[races_df['EventName'].str.contains('Testing')].index, inplace=True)\n",
    "\n",
    "    for rnd, row in races_df.iterrows():\n",
    "        pass\n",
    "    "
   ]
  }
 ],
 "metadata": {
  "kernelspec": {
   "display_name": ".venv",
   "language": "python",
   "name": "python3"
  },
  "language_info": {
   "codemirror_mode": {
    "name": "ipython",
    "version": 3
   },
   "file_extension": ".py",
   "mimetype": "text/x-python",
   "name": "python",
   "nbconvert_exporter": "python",
   "pygments_lexer": "ipython3",
   "version": "3.12.8"
  }
 },
 "nbformat": 4,
 "nbformat_minor": 5
}
